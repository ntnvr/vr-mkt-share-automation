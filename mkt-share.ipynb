{
 "cells": [
  {
   "cell_type": "code",
   "execution_count": 246,
   "id": "9e975c8e",
   "metadata": {},
   "outputs": [],
   "source": [
    "import pandas as pd\n",
    "pd.options.display.float_format = '{:,.2f}'.format\n"
   ]
  },
  {
   "cell_type": "code",
   "execution_count": 247,
   "id": "ff6d1fdc",
   "metadata": {},
   "outputs": [],
   "source": [
    "#import excel from this path: \"C:\\Users\\nicholas.t.norris\\OneDrive - Vail Resorts Management Company\\Documents\\Python\\vr-mkt-share-automation\\240814 TAM Master V1 -ED.xlsx\"\n",
    "file_path = r\"C:\\Users\\nicholas.t.norris\\OneDrive - Vail Resorts Management Company\\Documents\\Python\\vr-mkt-share-automation\\240814 TAM Master V1 -ED.xlsx\"\n",
    "# Read the Excel file\n",
    "mkt_raw = pd.read_excel(file_path, sheet_name='US 12 yr - by CBSA')\n",
    "\n",
    "vri_raw = pd.read_excel(file_path, sheet_name='VRI data dump', index_col=0)"
   ]
  },
  {
   "cell_type": "code",
   "execution_count": 248,
   "id": "d4ddadda",
   "metadata": {},
   "outputs": [],
   "source": [
    "#only keep the 'Season', 'Ticket_2223_2324', 'Ticket type vVRI', 'Visitation Geo', 'ToRegion (VRI)', 'Visitation', columns from mkt\n",
    "mkt = mkt_raw[['Season', 'Ticket_2223_2324', 'Ticket type vVRI', 'Visitation Geo', 'ToRegion (VRI)', 'Visitation']]\n",
    "#in mkt, rename 'Ticket_2223_2324' to 'Ticket LOB', 'Ticket type vVRI' to 'Ticket Type', 'Visitation Geo' to 'VisGeo', 'ToRegion (VRI)' to 'Region', and 'Visitation' to 'SV'\n",
    "mkt = mkt.rename(columns={\n",
    "    'Ticket_2223_2324': 'Ticket LOB',\n",
    "    'Ticket type vVRI': 'Ticket Type',\n",
    "    'Visitation Geo': 'VisGeo',\n",
    "    'ToRegion (VRI)': 'Region',\n",
    "    'Visitation': 'SV'\n",
    "})\n",
    "#keep every column except 'Resort State' from vri_raw\n",
    "vri = vri_raw.loc[:, vri_raw.columns != 'Resort State']\n",
    "#in vri, rename 'Sub Region' to 'Region', 'Ticket Type Grouped' to 'Ticket Type', 'Line of Business (incl. EDP)' to 'LOB', 'Season Year' to 'Season', and 'SVs' to 'SV'\n",
    "vri = vri.rename(columns={ \n",
    "    'Sub Region (adj.)': 'Region',\n",
    "    'Ticket Type Grouped': 'Ticket Type',\n",
    "    'Line Of Business  (incl. EDP)': 'LOB',\n",
    "    'Season Year': 'Season',\n",
    "    'SVs': 'SV',\n",
    "    'Visitation Geo': 'VisGeo'\n",
    "})\n",
    "#replace all instances of (VRI) in the 'Ticket Type' column with '17MTN'\n",
    "vri['VRI or Peak'] = vri['VRI or Peak'].str.replace('VRI', '17MTN', regex=False)\n"
   ]
  },
  {
   "cell_type": "code",
   "execution_count": 249,
   "id": "03994688",
   "metadata": {},
   "outputs": [
    {
     "name": "stdout",
     "output_type": "stream",
     "text": [
      "        Season                        Ticket LOB Ticket Type         VisGeo  \\\n",
      "0      2023/24                       Season pass        Pass  International   \n",
      "1      2023/24                       Paid ticket        Paid  International   \n",
      "2      2023/24  Other (e.g. comp, special offer)        Paid  International   \n",
      "3      2023/24                 Frequency product        Pass  International   \n",
      "4      2023/24                       Paid ticket        Paid  International   \n",
      "...        ...                               ...         ...            ...   \n",
      "84653  2021/22                               NaN        Paid    Destination   \n",
      "84654  2020/21                               NaN        Paid    Destination   \n",
      "84655  2019/20                               NaN        Paid    Destination   \n",
      "84656  2018/19                               NaN        Paid    Destination   \n",
      "84657  2014/15                               NaN        Paid    Destination   \n",
      "\n",
      "                  Region     SV  \n",
      "0              Northeast 270.81  \n",
      "1           Mid Atlantic 248.35  \n",
      "2         Rocky Mountain 216.49  \n",
      "3      Pacific Southwest 114.77  \n",
      "4      Pacific Southwest 114.77  \n",
      "...                  ...    ...  \n",
      "84653     Rocky Mountain   0.72  \n",
      "84654     Rocky Mountain   1.22  \n",
      "84655     Rocky Mountain  10.32  \n",
      "84656     Rocky Mountain  70.54  \n",
      "84657     Rocky Mountain   1.14  \n",
      "\n",
      "[84658 rows x 6 columns]\n"
     ]
    }
   ],
   "source": [
    "print(mkt)"
   ]
  },
  {
   "cell_type": "code",
   "execution_count": 250,
   "id": "6617f0e8",
   "metadata": {},
   "outputs": [
    {
     "name": "stdout",
     "output_type": "stream",
     "text": [
      "                Region    Sub Region VRI or Peak            Resort  \\\n",
      "NaN       Mid Atlantic  Mid Atlantic          7S  Hidden Valley PA   \n",
      "NaN       Mid Atlantic  Mid Atlantic          7S  Hidden Valley PA   \n",
      "NaN       Mid Atlantic  Mid Atlantic          7S  Hidden Valley PA   \n",
      "NaN       Mid Atlantic  Mid Atlantic          7S  Hidden Valley PA   \n",
      "NaN       Mid Atlantic  Mid Atlantic          7S  Hidden Valley PA   \n",
      "..                 ...           ...         ...               ...   \n",
      "NaN  Pacific Northwest       WestxWB       17MTN      Stevens Pass   \n",
      "NaN  Pacific Northwest       WestxWB       17MTN      Stevens Pass   \n",
      "NaN  Pacific Northwest       WestxWB       17MTN      Stevens Pass   \n",
      "NaN  Pacific Northwest       WestxWB       17MTN      Stevens Pass   \n",
      "NaN  Pacific Northwest       WestxWB       17MTN      Stevens Pass   \n",
      "\n",
      "    Ticket Type               LOB         VisGeo   Season         SV  \\\n",
      "NaN        Paid              Paid    Destination  2022/23        NaN   \n",
      "NaN        Paid              Paid  International  2022/23        NaN   \n",
      "NaN        Paid              Paid          Local  2022/23        NaN   \n",
      "NaN        Paid              Paid    Destination  2022/23       0.00   \n",
      "NaN        Paid              Paid  International  2022/23       0.00   \n",
      "..          ...               ...            ...      ...        ...   \n",
      "NaN        Pass  Pass (Frequency)  International  2023/24      74.44   \n",
      "NaN        Pass  Pass (Frequency)          Local  2023/24  15,118.49   \n",
      "NaN        Pass  Pass (Unlimited)    Destination  2023/24  23,891.60   \n",
      "NaN        Pass  Pass (Unlimited)  International  2023/24     400.36   \n",
      "NaN        Pass  Pass (Unlimited)          Local  2023/24 227,071.04   \n",
      "\n",
      "     Unnamed: 11  Unnamed: 12  Unnamed: 13  Unnamed: 14  Unnamed: 15  \\\n",
      "NaN          NaN          NaN          NaN          NaN          NaN   \n",
      "NaN          NaN          NaN          NaN          NaN          NaN   \n",
      "NaN          NaN          NaN          NaN          NaN          NaN   \n",
      "NaN          NaN          NaN          NaN          NaN          NaN   \n",
      "NaN          NaN          NaN          NaN          NaN          NaN   \n",
      "..           ...          ...          ...          ...          ...   \n",
      "NaN          NaN          NaN          NaN          NaN          NaN   \n",
      "NaN          NaN          NaN          NaN          NaN          NaN   \n",
      "NaN          NaN          NaN          NaN          NaN          NaN   \n",
      "NaN          NaN          NaN          NaN          NaN          NaN   \n",
      "NaN          NaN          NaN          NaN          NaN          NaN   \n",
      "\n",
      "    Unnamed: 16 Unnamed: 17  \n",
      "NaN         NaN         NaN  \n",
      "NaN         NaN         NaN  \n",
      "NaN         NaN         NaN  \n",
      "NaN         NaN         NaN  \n",
      "NaN         NaN         NaN  \n",
      "..          ...         ...  \n",
      "NaN         NaN         NaN  \n",
      "NaN         NaN         NaN  \n",
      "NaN         NaN         NaN  \n",
      "NaN         NaN         NaN  \n",
      "NaN         NaN         NaN  \n",
      "\n",
      "[2154 rows x 16 columns]\n"
     ]
    }
   ],
   "source": [
    "print(vri)"
   ]
  },
  {
   "cell_type": "markdown",
   "id": "5aec9c2f",
   "metadata": {},
   "source": [
    "### Do i need to remove comp, if so, how?"
   ]
  },
  {
   "cell_type": "code",
   "execution_count": 251,
   "id": "fa890369",
   "metadata": {},
   "outputs": [],
   "source": [
    "#use groupby to sum the 'Visitation' column in mkt by 'Season' where 'Ticket_2223_2324' is not 'Other (e.g. comp, special offer) and transpose the result\n",
    "#mkt_total = mkt[mkt['Ticket_2223_2324'] != 'Other (e.g. comp, special offer)'].groupby('Season')['Visitation'].sum().reset_index()\n"
   ]
  },
  {
   "cell_type": "markdown",
   "id": "de2db10e",
   "metadata": {},
   "source": [
    "# Define the function which does the calculations"
   ]
  },
  {
   "cell_type": "code",
   "execution_count": 252,
   "id": "3cc513e5",
   "metadata": {},
   "outputs": [],
   "source": [
    "def generate_table(\n",
    "    mkt_df,\n",
    "    vri_df,\n",
    "    filters=None,\n",
    "    group_column='VRI or Peak',\n",
    "    total_label='Total industry visits',\n",
    "    metric='SV',\n",
    "    group_order=['17MTN', 'Peak', '7S'],\n",
    "    rename_index_map=None\n",
    "):\n",
    "    \"\"\"\n",
    "    Generate a summary DataFrame with optional filters and share calculations.\n",
    "\n",
    "    Parameters:\n",
    "    - mkt_df, vri_df: DataFrames\n",
    "    - filters: dict of {column_name: filter_value or None}\n",
    "    - group_column: column in vri_df to group by (e.g. 'VRI or Peak')\n",
    "    - total_label: row label for market total\n",
    "    - metric: column to aggregate\n",
    "    - group_order: list of group values to order rows\n",
    "    - rename_index_map: optional dict to rename index labels\n",
    "\n",
    "    Returns:\n",
    "    - DataFrame with total visits and share calculations\n",
    "    \"\"\"\n",
    "\n",
    "    def apply_filters(df, filters):\n",
    "        if not filters:\n",
    "            return df\n",
    "        for col, val in filters.items():\n",
    "            if val is not None:\n",
    "                df = df[df[col] == val]\n",
    "        return df\n",
    "\n",
    "    # Apply filters\n",
    "    mkt_subset = apply_filters(mkt_df, filters)\n",
    "    vri_subset = apply_filters(vri_df, filters)\n",
    "\n",
    "    # Market total\n",
    "    mkt_total = mkt_subset.groupby('Season')[metric].sum().reset_index()\n",
    "    mkt_total = mkt_total.set_index('Season').T\n",
    "    mkt_total.index = [total_label]\n",
    "\n",
    "    # VRI group totals\n",
    "    vri_grouped = vri_subset.groupby(['Season', group_column])[metric].sum().reset_index()\n",
    "    vri_pivot = vri_grouped.pivot(index=group_column, columns='Season', values=metric)\n",
    "\n",
    "    # Reorder and rename\n",
    "    vri_pivot = vri_pivot.reindex(group_order)\n",
    "    if rename_index_map:\n",
    "        vri_pivot.index = [rename_index_map.get(i, i) for i in vri_pivot.index]\n",
    "\n",
    "    # Combine and compute shares\n",
    "    combined = pd.concat([mkt_total, vri_pivot], axis=0)\n",
    "    for idx in vri_pivot.index:\n",
    "        share_label = idx.replace('Visits', 'Share')\n",
    "        combined.loc[share_label] = combined.loc[idx] / combined.loc[total_label]\n",
    "\n",
    "    return combined\n"
   ]
  },
  {
   "cell_type": "code",
   "execution_count": 253,
   "id": "5636f57c",
   "metadata": {},
   "outputs": [],
   "source": [
    "rename_map = {\n",
    "    '17MTN': 'VRI Visits (17MTN)',\n",
    "    'Peak': 'VRI Visits (Peak)',\n",
    "    '7S': 'VRI Visits (7S)'\n",
    "}"
   ]
  },
  {
   "cell_type": "markdown",
   "id": "53502f76",
   "metadata": {},
   "source": [
    "# Everything below this uses the same block of code, but just adjusts the filters. Use these"
   ]
  },
  {
   "cell_type": "markdown",
   "id": "f4e2c586",
   "metadata": {},
   "source": [
    "## Ticket Type"
   ]
  },
  {
   "cell_type": "code",
   "execution_count": 254,
   "id": "61c2dae5",
   "metadata": {},
   "outputs": [
    {
     "name": "stdout",
     "output_type": "stream",
     "text": [
      "Generating table for: None - Pass - None\n",
      "Generating table for: None - Paid - None\n"
     ]
    }
   ],
   "source": [
    "regions = [\n",
    "    None\n",
    "]\n",
    "\n",
    "ticket_types = ['Pass', 'Paid']\n",
    "vis_geo_types = [None]\n",
    "\n",
    "tt = {}\n",
    "\n",
    "for region in regions:\n",
    "    for ticket_type in ticket_types:\n",
    "        for visgeo in vis_geo_types:\n",
    "            label = f\"{region} - {ticket_type} - {visgeo}\"\n",
    "            print(f\"Generating table for: {label}\")\n",
    "\n",
    "            try:\n",
    "                table = generate_table(\n",
    "                    mkt_df=mkt,\n",
    "                    vri_df=vri,\n",
    "                    filters={\n",
    "                        'Region': region,\n",
    "                        'Ticket Type': ticket_type,\n",
    "                        'VisGeo': visgeo\n",
    "                    },\n",
    "                    group_column='VRI or Peak',\n",
    "                    total_label='Total industry visits',\n",
    "                    rename_index_map=rename_map\n",
    "                )\n",
    "                tt[label] = table\n",
    "            except Exception as e:\n",
    "                print(f\"⚠️ Failed for {label}: {e}\")\n"
   ]
  },
  {
   "cell_type": "markdown",
   "id": "4df821d9",
   "metadata": {},
   "source": [
    "## Region"
   ]
  },
  {
   "cell_type": "code",
   "execution_count": 255,
   "id": "cdcda6f1",
   "metadata": {},
   "outputs": [
    {
     "name": "stdout",
     "output_type": "stream",
     "text": [
      "Generating table for: Rocky Mountain - None - None\n",
      "Generating table for: Midwest - None - None\n",
      "Generating table for: Mid Atlantic - None - None\n",
      "Generating table for: Northeast - None - None\n",
      "Generating table for: Pacific Southwest - None - None\n",
      "Generating table for: Pacific Northwest - None - None\n"
     ]
    }
   ],
   "source": [
    "regions = [\n",
    "    'Rocky Mountain', 'Midwest', 'Mid Atlantic',\n",
    "    'Northeast', 'Pacific Southwest', 'Pacific Northwest'\n",
    "]\n",
    "\n",
    "ticket_types = [None]\n",
    "vis_geo_types = [None]\n",
    "\n",
    "reg = {}\n",
    "\n",
    "for region in regions:\n",
    "    for ticket_type in ticket_types:\n",
    "        for visgeo in vis_geo_types:\n",
    "            label = f\"{region} - {ticket_type} - {visgeo}\"\n",
    "            print(f\"Generating table for: {label}\")\n",
    "\n",
    "            try:\n",
    "                table = generate_table(\n",
    "                    mkt_df=mkt,\n",
    "                    vri_df=vri,\n",
    "                    filters={\n",
    "                        'Region': region,\n",
    "                        'Ticket Type': ticket_type,\n",
    "                        'VisGeo': visgeo\n",
    "                    },\n",
    "                    group_column='VRI or Peak',\n",
    "                    total_label='Total industry visits',\n",
    "                    rename_index_map=rename_map\n",
    "                )\n",
    "                reg[label] = table\n",
    "            except Exception as e:\n",
    "                print(f\"⚠️ Failed for {label}: {e}\")\n"
   ]
  },
  {
   "cell_type": "markdown",
   "id": "b0e4f851",
   "metadata": {},
   "source": [
    "## VisGeo"
   ]
  },
  {
   "cell_type": "code",
   "execution_count": 256,
   "id": "da032078",
   "metadata": {},
   "outputs": [
    {
     "name": "stdout",
     "output_type": "stream",
     "text": [
      "Generating table for: None - None - Local\n",
      "Generating table for: None - None - Destination\n",
      "Generating table for: None - None - International\n"
     ]
    }
   ],
   "source": [
    "regions = [\n",
    "    None\n",
    "]\n",
    "\n",
    "ticket_types = [None]\n",
    "vis_geo_types = ['Local', 'Destination', 'International']\n",
    "\n",
    "vg = {}\n",
    "\n",
    "for region in regions:\n",
    "    for ticket_type in ticket_types:\n",
    "        for visgeo in vis_geo_types:\n",
    "            label = f\"{region} - {ticket_type} - {visgeo}\"\n",
    "            print(f\"Generating table for: {label}\")\n",
    "\n",
    "            try:\n",
    "                table = generate_table(\n",
    "                    mkt_df=mkt,\n",
    "                    vri_df=vri,\n",
    "                    filters={\n",
    "                        'Region': region,\n",
    "                        'Ticket Type': ticket_type,\n",
    "                        'VisGeo': visgeo\n",
    "                    },\n",
    "                    group_column='VRI or Peak',\n",
    "                    total_label='Total industry visits',\n",
    "                    rename_index_map=rename_map\n",
    "                )\n",
    "                vg[label] = table\n",
    "            except Exception as e:\n",
    "                print(f\"⚠️ Failed for {label}: {e}\")\n"
   ]
  },
  {
   "cell_type": "markdown",
   "id": "728487a1",
   "metadata": {},
   "source": [
    "## Region x Ticket Type"
   ]
  },
  {
   "cell_type": "code",
   "execution_count": 257,
   "id": "3990ade0",
   "metadata": {},
   "outputs": [
    {
     "name": "stdout",
     "output_type": "stream",
     "text": [
      "Generating table for: Rocky Mountain - Pass - None\n",
      "Generating table for: Rocky Mountain - Paid - None\n",
      "Generating table for: Midwest - Pass - None\n",
      "Generating table for: Midwest - Paid - None\n",
      "Generating table for: Mid Atlantic - Pass - None\n",
      "Generating table for: Mid Atlantic - Paid - None\n",
      "Generating table for: Northeast - Pass - None\n",
      "Generating table for: Northeast - Paid - None\n",
      "Generating table for: Pacific Southwest - Pass - None\n",
      "Generating table for: Pacific Southwest - Paid - None\n",
      "Generating table for: Pacific Northwest - Pass - None\n",
      "Generating table for: Pacific Northwest - Paid - None\n"
     ]
    }
   ],
   "source": [
    "regions = [\n",
    "    'Rocky Mountain', 'Midwest', 'Mid Atlantic',\n",
    "    'Northeast', 'Pacific Southwest', 'Pacific Northwest'\n",
    "]\n",
    "\n",
    "ticket_types = ['Pass', 'Paid']\n",
    "vis_geo_types = [None]\n",
    "\n",
    "reg_tt = {}\n",
    "\n",
    "for region in regions:\n",
    "    for ticket_type in ticket_types:\n",
    "        for visgeo in vis_geo_types:\n",
    "            label = f\"{region} - {ticket_type} - {visgeo}\"\n",
    "            print(f\"Generating table for: {label}\")\n",
    "\n",
    "            try:\n",
    "                table = generate_table(\n",
    "                    mkt_df=mkt,\n",
    "                    vri_df=vri,\n",
    "                    filters={\n",
    "                        'Region': region,\n",
    "                        'Ticket Type': ticket_type,\n",
    "                        'VisGeo': visgeo\n",
    "                    },\n",
    "                    group_column='VRI or Peak',\n",
    "                    total_label='Total industry visits',\n",
    "                    rename_index_map=rename_map\n",
    "                )\n",
    "                reg_tt[label] = table\n",
    "            except Exception as e:\n",
    "                print(f\"⚠️ Failed for {label}: {e}\")\n"
   ]
  },
  {
   "cell_type": "markdown",
   "id": "efc62b04",
   "metadata": {},
   "source": [
    "## Region x VisGeo"
   ]
  },
  {
   "cell_type": "code",
   "execution_count": 258,
   "id": "0df0d5d6",
   "metadata": {},
   "outputs": [
    {
     "name": "stdout",
     "output_type": "stream",
     "text": [
      "Generating table for: Rocky Mountain - None - Local\n",
      "Generating table for: Rocky Mountain - None - Destination\n",
      "Generating table for: Rocky Mountain - None - International\n",
      "Generating table for: Midwest - None - Local\n",
      "Generating table for: Midwest - None - Destination\n",
      "Generating table for: Midwest - None - International\n",
      "Generating table for: Mid Atlantic - None - Local\n",
      "Generating table for: Mid Atlantic - None - Destination\n",
      "Generating table for: Mid Atlantic - None - International\n",
      "Generating table for: Northeast - None - Local\n",
      "Generating table for: Northeast - None - Destination\n",
      "Generating table for: Northeast - None - International\n",
      "Generating table for: Pacific Southwest - None - Local\n",
      "Generating table for: Pacific Southwest - None - Destination\n",
      "Generating table for: Pacific Southwest - None - International\n",
      "Generating table for: Pacific Northwest - None - Local\n",
      "Generating table for: Pacific Northwest - None - Destination\n",
      "Generating table for: Pacific Northwest - None - International\n"
     ]
    }
   ],
   "source": [
    "regions = [\n",
    "    'Rocky Mountain', 'Midwest', 'Mid Atlantic',\n",
    "    'Northeast', 'Pacific Southwest', 'Pacific Northwest'\n",
    "]\n",
    "\n",
    "ticket_types = [None]\n",
    "vis_geo_types = ['Local', 'Destination', 'International']\n",
    "\n",
    "reg_vg = {}\n",
    "\n",
    "for region in regions:\n",
    "    for ticket_type in ticket_types:\n",
    "        for visgeo in vis_geo_types:\n",
    "            label = f\"{region} - {ticket_type} - {visgeo}\"\n",
    "            print(f\"Generating table for: {label}\")\n",
    "\n",
    "            try:\n",
    "                table = generate_table(\n",
    "                    mkt_df=mkt,\n",
    "                    vri_df=vri,\n",
    "                    filters={\n",
    "                        'Region': region,\n",
    "                        'Ticket Type': ticket_type,\n",
    "                        'VisGeo': visgeo\n",
    "                    },\n",
    "                    group_column='VRI or Peak',\n",
    "                    total_label='Total industry visits',\n",
    "                    rename_index_map=rename_map\n",
    "                )\n",
    "                reg_vg[label] = table\n",
    "            except Exception as e:\n",
    "                print(f\"⚠️ Failed for {label}: {e}\")\n"
   ]
  },
  {
   "cell_type": "markdown",
   "id": "e8c481f4",
   "metadata": {},
   "source": [
    "## Ticket Type x VisGeo"
   ]
  },
  {
   "cell_type": "code",
   "execution_count": 259,
   "id": "3a5c3a7f",
   "metadata": {},
   "outputs": [
    {
     "name": "stdout",
     "output_type": "stream",
     "text": [
      "Generating table for: None - Pass - Local\n",
      "Generating table for: None - Pass - Destination\n",
      "Generating table for: None - Pass - International\n",
      "Generating table for: None - Paid - Local\n",
      "Generating table for: None - Paid - Destination\n",
      "Generating table for: None - Paid - International\n"
     ]
    }
   ],
   "source": [
    "regions = [\n",
    "    None\n",
    "]\n",
    "\n",
    "ticket_types = ['Pass', 'Paid']\n",
    "vis_geo_types = ['Local', 'Destination', 'International']\n",
    "\n",
    "tt_vg = {}\n",
    "\n",
    "for region in regions:\n",
    "    for ticket_type in ticket_types:\n",
    "        for visgeo in vis_geo_types:\n",
    "            label = f\"{region} - {ticket_type} - {visgeo}\"\n",
    "            print(f\"Generating table for: {label}\")\n",
    "\n",
    "            try:\n",
    "                table = generate_table(\n",
    "                    mkt_df=mkt,\n",
    "                    vri_df=vri,\n",
    "                    filters={\n",
    "                        'Region': region,\n",
    "                        'Ticket Type': ticket_type,\n",
    "                        'VisGeo': visgeo\n",
    "                    },\n",
    "                    group_column='VRI or Peak',\n",
    "                    total_label='Total industry visits',\n",
    "                    rename_index_map=rename_map\n",
    "                )\n",
    "                tt_vg[label] = table\n",
    "            except Exception as e:\n",
    "                print(f\"⚠️ Failed for {label}: {e}\")\n"
   ]
  },
  {
   "cell_type": "markdown",
   "id": "1ead3693",
   "metadata": {},
   "source": [
    "## Region x Ticket Type x VisGeo"
   ]
  },
  {
   "cell_type": "code",
   "execution_count": 260,
   "id": "5f551bb5",
   "metadata": {},
   "outputs": [
    {
     "name": "stdout",
     "output_type": "stream",
     "text": [
      "Generating table for: Rocky Mountain - Pass - Local\n",
      "Generating table for: Rocky Mountain - Pass - Destination\n",
      "Generating table for: Rocky Mountain - Pass - International\n",
      "Generating table for: Rocky Mountain - Paid - Local\n",
      "Generating table for: Rocky Mountain - Paid - Destination\n",
      "Generating table for: Rocky Mountain - Paid - International\n",
      "Generating table for: Midwest - Pass - Local\n",
      "Generating table for: Midwest - Pass - Destination\n",
      "Generating table for: Midwest - Pass - International\n",
      "Generating table for: Midwest - Paid - Local\n",
      "Generating table for: Midwest - Paid - Destination\n",
      "Generating table for: Midwest - Paid - International\n",
      "Generating table for: Mid Atlantic - Pass - Local\n",
      "Generating table for: Mid Atlantic - Pass - Destination\n",
      "Generating table for: Mid Atlantic - Pass - International\n",
      "Generating table for: Mid Atlantic - Paid - Local\n",
      "Generating table for: Mid Atlantic - Paid - Destination\n",
      "Generating table for: Mid Atlantic - Paid - International\n",
      "Generating table for: Northeast - Pass - Local\n",
      "Generating table for: Northeast - Pass - Destination\n",
      "Generating table for: Northeast - Pass - International\n",
      "Generating table for: Northeast - Paid - Local\n",
      "Generating table for: Northeast - Paid - Destination\n",
      "Generating table for: Northeast - Paid - International\n",
      "Generating table for: Pacific Southwest - Pass - Local\n",
      "Generating table for: Pacific Southwest - Pass - Destination\n",
      "Generating table for: Pacific Southwest - Pass - International\n",
      "Generating table for: Pacific Southwest - Paid - Local\n",
      "Generating table for: Pacific Southwest - Paid - Destination\n",
      "Generating table for: Pacific Southwest - Paid - International\n",
      "Generating table for: Pacific Northwest - Pass - Local\n",
      "Generating table for: Pacific Northwest - Pass - Destination\n",
      "Generating table for: Pacific Northwest - Pass - International\n",
      "Generating table for: Pacific Northwest - Paid - Local\n",
      "Generating table for: Pacific Northwest - Paid - Destination\n",
      "Generating table for: Pacific Northwest - Paid - International\n"
     ]
    }
   ],
   "source": [
    "regions = [\n",
    "    'Rocky Mountain', 'Midwest', 'Mid Atlantic',\n",
    "    'Northeast', 'Pacific Southwest', 'Pacific Northwest'\n",
    "]\n",
    "\n",
    "ticket_types = ['Pass', 'Paid']\n",
    "vis_geo_types = ['Local', 'Destination', 'International']\n",
    "\n",
    "reg_tt_vg = {}\n",
    "\n",
    "for region in regions:\n",
    "    for ticket_type in ticket_types:\n",
    "        for visgeo in vis_geo_types:\n",
    "            label = f\"{region} - {ticket_type} - {visgeo}\"\n",
    "            print(f\"Generating table for: {label}\")\n",
    "\n",
    "            try:\n",
    "                table = generate_table(\n",
    "                    mkt_df=mkt,\n",
    "                    vri_df=vri,\n",
    "                    filters={\n",
    "                        'Region': region,\n",
    "                        'Ticket Type': ticket_type,\n",
    "                        'VisGeo': visgeo\n",
    "                    },\n",
    "                    group_column='VRI or Peak',\n",
    "                    total_label='Total industry visits',\n",
    "                    rename_index_map=rename_map\n",
    "                )\n",
    "                reg_tt_vg[label] = table\n",
    "            except Exception as e:\n",
    "                print(f\"⚠️ Failed for {label}: {e}\")\n"
   ]
  },
  {
   "cell_type": "code",
   "execution_count": null,
   "id": "b3c22968",
   "metadata": {},
   "outputs": [],
   "source": []
  }
 ],
 "metadata": {
  "kernelspec": {
   "display_name": "Python 3",
   "language": "python",
   "name": "python3"
  },
  "language_info": {
   "codemirror_mode": {
    "name": "ipython",
    "version": 3
   },
   "file_extension": ".py",
   "mimetype": "text/x-python",
   "name": "python",
   "nbconvert_exporter": "python",
   "pygments_lexer": "ipython3",
   "version": "3.13.2"
  }
 },
 "nbformat": 4,
 "nbformat_minor": 5
}
