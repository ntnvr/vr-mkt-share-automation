{
 "cells": [
  {
   "cell_type": "code",
   "execution_count": 67,
   "id": "9e975c8e",
   "metadata": {},
   "outputs": [],
   "source": [
    "import pandas as pd\n",
    "pd.options.display.float_format = '{:,.2f}'.format\n"
   ]
  },
  {
   "cell_type": "code",
   "execution_count": 32,
   "id": "ff6d1fdc",
   "metadata": {},
   "outputs": [],
   "source": [
    "#import excel from this path: \"C:\\Users\\nicholas.t.norris\\OneDrive - Vail Resorts Management Company\\Documents\\Python\\vr-mkt-share-automation\\240814 TAM Master V1 -ED.xlsx\"\n",
    "file_path = r\"C:\\Users\\nicholas.t.norris\\OneDrive - Vail Resorts Management Company\\Documents\\Python\\vr-mkt-share-automation\\240814 TAM Master V1 -ED.xlsx\"\n",
    "# Read the Excel file\n",
    "mkt_raw = pd.read_excel(file_path, sheet_name='US 12 yr - by CBSA')\n",
    "\n",
    "vri_raw = pd.read_excel(file_path, sheet_name='VRI data dump', index_col=0)"
   ]
  },
  {
   "cell_type": "code",
   "execution_count": 155,
   "id": "d4ddadda",
   "metadata": {},
   "outputs": [],
   "source": [
    "#only keep the 'Season', 'Ticket_2223_2324', 'Ticket type vVRI', 'Visitation Geo', 'ToRegion (VRI)', 'Visitation', columns from mkt\n",
    "mkt = mkt_raw[['Season', 'Ticket_2223_2324', 'Ticket type vVRI', 'Visitation Geo', 'ToRegion (VRI)', 'Visitation']]\n",
    "#in mkt, rename 'Ticket_2223_2324' to 'Ticket LOB', 'Ticket type vVRI' to 'Ticket Type', 'Visitation Geo' to 'VisGeo', 'ToRegion (VRI)' to 'Region', and 'Visitation' to 'SV'\n",
    "mkt = mkt.rename(columns={\n",
    "    'Ticket_2223_2324': 'Ticket LOB',\n",
    "    'Ticket type vVRI': 'Ticket Type',\n",
    "    'Visitation Geo': 'VisGeo',\n",
    "    'ToRegion (VRI)': 'Region',\n",
    "    'Visitation': 'SV'\n",
    "})\n",
    "#keep every column except 'Resort State' from vri_raw\n",
    "vri = vri_raw.loc[:, vri_raw.columns != 'Resort State']\n",
    "#in vri, rename 'Sub Region' to 'Region', 'Ticket Type Grouped' to 'Ticket Type', 'Line of Business (incl. EDP)' to 'LOB', 'Season Year' to 'Season', and 'SVs' to 'SV'\n",
    "vri = vri.rename(columns={ \n",
    "    'Sub Region (adj.)': 'Region',\n",
    "    'Ticket Type Grouped': 'Ticket Type',\n",
    "    'Line Of Business  (incl. EDP)': 'LOB',\n",
    "    'Season Year': 'Season',\n",
    "    'SVs': 'SV',\n",
    "    'Visitation Geo': 'VisGeo'\n",
    "})\n",
    "#replace all instances of (VRI) in the 'Ticket Type' column with '17MTN'\n",
    "vri['VRI or Peak'] = vri['VRI or Peak'].str.replace('VRI', '17MTN', regex=False)\n"
   ]
  },
  {
   "cell_type": "code",
   "execution_count": 156,
   "id": "03994688",
   "metadata": {},
   "outputs": [
    {
     "name": "stdout",
     "output_type": "stream",
     "text": [
      "        Season                        Ticket LOB Ticket Type         VisGeo  \\\n",
      "0      2023/24                       Season pass        Pass  International   \n",
      "1      2023/24                       Paid ticket        Paid  International   \n",
      "2      2023/24  Other (e.g. comp, special offer)        Paid  International   \n",
      "3      2023/24                 Frequency product        Pass  International   \n",
      "4      2023/24                       Paid ticket        Paid  International   \n",
      "...        ...                               ...         ...            ...   \n",
      "84653  2021/22                               NaN        Paid    Destination   \n",
      "84654  2020/21                               NaN        Paid    Destination   \n",
      "84655  2019/20                               NaN        Paid    Destination   \n",
      "84656  2018/19                               NaN        Paid    Destination   \n",
      "84657  2014/15                               NaN        Paid    Destination   \n",
      "\n",
      "                  Region     SV  \n",
      "0              Northeast 270.81  \n",
      "1           Mid Atlantic 248.35  \n",
      "2         Rocky Mountain 216.49  \n",
      "3      Pacific Southwest 114.77  \n",
      "4      Pacific Southwest 114.77  \n",
      "...                  ...    ...  \n",
      "84653     Rocky Mountain   0.72  \n",
      "84654     Rocky Mountain   1.22  \n",
      "84655     Rocky Mountain  10.32  \n",
      "84656     Rocky Mountain  70.54  \n",
      "84657     Rocky Mountain   1.14  \n",
      "\n",
      "[84658 rows x 6 columns]\n"
     ]
    }
   ],
   "source": [
    "print(mkt)"
   ]
  },
  {
   "cell_type": "code",
   "execution_count": 157,
   "id": "6617f0e8",
   "metadata": {},
   "outputs": [
    {
     "name": "stdout",
     "output_type": "stream",
     "text": [
      "                Region    Sub Region VRI or Peak            Resort  \\\n",
      "NaN       Mid Atlantic  Mid Atlantic          7S  Hidden Valley PA   \n",
      "NaN       Mid Atlantic  Mid Atlantic          7S  Hidden Valley PA   \n",
      "NaN       Mid Atlantic  Mid Atlantic          7S  Hidden Valley PA   \n",
      "NaN       Mid Atlantic  Mid Atlantic          7S  Hidden Valley PA   \n",
      "NaN       Mid Atlantic  Mid Atlantic          7S  Hidden Valley PA   \n",
      "..                 ...           ...         ...               ...   \n",
      "NaN  Pacific Northwest       WestxWB       17MTN      Stevens Pass   \n",
      "NaN  Pacific Northwest       WestxWB       17MTN      Stevens Pass   \n",
      "NaN  Pacific Northwest       WestxWB       17MTN      Stevens Pass   \n",
      "NaN  Pacific Northwest       WestxWB       17MTN      Stevens Pass   \n",
      "NaN  Pacific Northwest       WestxWB       17MTN      Stevens Pass   \n",
      "\n",
      "    Ticket Type               LOB         VisGeo   Season         SV  \n",
      "NaN        Paid              Paid    Destination  2022/23        NaN  \n",
      "NaN        Paid              Paid  International  2022/23        NaN  \n",
      "NaN        Paid              Paid          Local  2022/23        NaN  \n",
      "NaN        Paid              Paid    Destination  2022/23       0.00  \n",
      "NaN        Paid              Paid  International  2022/23       0.00  \n",
      "..          ...               ...            ...      ...        ...  \n",
      "NaN        Pass  Pass (Frequency)  International  2023/24      74.44  \n",
      "NaN        Pass  Pass (Frequency)          Local  2023/24  15,118.49  \n",
      "NaN        Pass  Pass (Unlimited)    Destination  2023/24  23,891.60  \n",
      "NaN        Pass  Pass (Unlimited)  International  2023/24     400.36  \n",
      "NaN        Pass  Pass (Unlimited)          Local  2023/24 227,071.04  \n",
      "\n",
      "[2154 rows x 9 columns]\n"
     ]
    }
   ],
   "source": [
    "print(vri)"
   ]
  },
  {
   "cell_type": "markdown",
   "id": "5aec9c2f",
   "metadata": {},
   "source": [
    "### Do i need to remove comp, if so, how?"
   ]
  },
  {
   "cell_type": "code",
   "execution_count": 158,
   "id": "fa890369",
   "metadata": {},
   "outputs": [],
   "source": [
    "#use groupby to sum the 'Visitation' column in mkt by 'Season' where 'Ticket_2223_2324' is not 'Other (e.g. comp, special offer) and transpose the result\n",
    "#mkt_total = mkt[mkt['Ticket_2223_2324'] != 'Other (e.g. comp, special offer)'].groupby('Season')['Visitation'].sum().reset_index()\n",
    "mkt_total = mkt.groupby('Season')['SV'].sum().reset_index()\n",
    "mkt_total = mkt_total.set_index('Season').T\n",
    "#rename the index from 'SV' to 'Total industry visits'\n",
    "mkt_total.index = ['Total industry visits']"
   ]
  },
  {
   "cell_type": "code",
   "execution_count": 159,
   "id": "79368b8b",
   "metadata": {},
   "outputs": [
    {
     "name": "stdout",
     "output_type": "stream",
     "text": [
      "Season                      2012/13       2013/14       2014/15       2015/16  \\\n",
      "Total industry visits 56,904,226.77 55,969,413.46 52,983,180.22 52,157,828.63   \n",
      "\n",
      "Season                      2016/17       2017/18       2018/19       2019/20  \\\n",
      "Total industry visits 54,208,793.34 52,765,389.63 58,625,979.45 50,540,814.84   \n",
      "\n",
      "Season                      2020/21       2021/22       2022/23       2023/24  \n",
      "Total industry visits 58,425,200.48 60,175,077.20 64,644,263.00 59,800,235.60  \n"
     ]
    }
   ],
   "source": [
    "print(mkt_total)"
   ]
  },
  {
   "cell_type": "code",
   "execution_count": 160,
   "id": "f2b7fa72",
   "metadata": {},
   "outputs": [
    {
     "name": "stdout",
     "output_type": "stream",
     "text": [
      "Season                      2012/13       2013/14       2014/15       2015/16  \\\n",
      "Total industry visits 18,356,524.97 20,099,343.95 18,257,615.93 18,747,171.58   \n",
      "\n",
      "Season                      2016/17       2017/18       2018/19       2019/20  \\\n",
      "Total industry visits 20,330,000.24 19,790,779.54 23,239,819.02 19,924,122.02   \n",
      "\n",
      "Season                      2020/21       2021/22       2022/23       2023/24  \n",
      "Total industry visits 24,242,475.34 28,472,077.59 31,902,604.22 35,297,662.23  \n"
     ]
    }
   ],
   "source": [
    "#create a subset of mkt_total called mkt_pass_total where 'Ticket Type' is 'Pass'\n",
    "mkt_pass_total = mkt[mkt['Ticket Type'] == 'Pass'].groupby('Season')['SV'].sum().reset_index()\n",
    "mkt_pass_total = mkt_pass_total.set_index('Season').T\n",
    "#rename the index from 'SV' to 'Total industry  visits'\n",
    "mkt_pass_total.index = ['Total industry visits']\n",
    "print(mkt_pass_total)"
   ]
  },
  {
   "cell_type": "code",
   "execution_count": 161,
   "id": "ebb44c5c",
   "metadata": {},
   "outputs": [
    {
     "name": "stdout",
     "output_type": "stream",
     "text": [
      "49149832.07\n",
      "Season                  2018/19      2019/20      2020/21      2021/22  \\\n",
      "VRI Visits (17MTN) 6,187,427.02 5,243,225.99 7,138,060.00 8,230,921.01   \n",
      "VRI Visits (Peak)           NaN   792,886.00   885,240.00   975,067.00   \n",
      "VRI Visits (7S)             NaN          NaN          NaN          NaN   \n",
      "\n",
      "Season                  2022/23      2023/24  \n",
      "VRI Visits (17MTN) 8,811,656.02 8,377,906.03  \n",
      "VRI Visits (Peak)  1,084,401.00 1,002,793.00  \n",
      "VRI Visits (7S)      229,853.00   190,396.00  \n"
     ]
    }
   ],
   "source": [
    "#use gropuby to sum the 'SV' column in vri by 'Season' with a row for each value of 'VRI or Peak' and where 'Ticket Type' is 'Pass'\n",
    "vri_pass = vri[vri['Ticket Type'] == 'Pass']\n",
    "#print the sum of 'SV' in vri_pass\n",
    "print(vri_pass['SV'].sum())\n",
    "#group by 'Season' and 'Ticket Type' and sum the 'SV' column\n",
    "vri_pass_total = vri_pass.groupby(['Season', 'VRI or Peak'])['SV'].sum().reset_index()\n",
    "#pivot the result to have 'Season' as the columns\n",
    "vri_pass_total = vri_pass_total.pivot(index='VRI or Peak', columns='Season', values='SV')\n",
    "#add another row for the total of all seasons\n",
    "#vri_pass_total.loc['Total'] = vri_pass_total.sum()\n",
    "\n",
    "#reorder the rows to have '17MTN' first, 'Peak' second, and '7S' third\n",
    "vri_pass_total = vri_pass_total.reindex(['17MTN', 'Peak', '7S'])\n",
    "#rename the index values to 'VRI Visits (17MTN)', 'VRI Visits (Peak)', and 'VRI Visits (7S)'\n",
    "vri_pass_total.index = ['VRI Visits (17MTN)', 'VRI Visits (Peak)', 'VRI Visits (7S)']\n",
    "print(vri_pass_total)"
   ]
  },
  {
   "cell_type": "code",
   "execution_count": 162,
   "id": "0d3c4e44",
   "metadata": {},
   "outputs": [
    {
     "name": "stdout",
     "output_type": "stream",
     "text": [
      "Season                      2012/13       2013/14       2014/15       2015/16  \\\n",
      "Total industry visits 56,904,226.77 55,969,413.46 52,983,180.22 52,157,828.63   \n",
      "VRI Visits (17MTN)              NaN           NaN           NaN           NaN   \n",
      "VRI Visits (Peak)               NaN           NaN           NaN           NaN   \n",
      "VRI Visits (7S)                 NaN           NaN           NaN           NaN   \n",
      "\n",
      "Season                      2016/17       2017/18       2018/19       2019/20  \\\n",
      "Total industry visits 54,208,793.34 52,765,389.63 58,625,979.45 50,540,814.84   \n",
      "VRI Visits (17MTN)              NaN           NaN  6,187,427.02  5,243,225.99   \n",
      "VRI Visits (Peak)               NaN           NaN           NaN    792,886.00   \n",
      "VRI Visits (7S)                 NaN           NaN           NaN           NaN   \n",
      "\n",
      "Season                      2020/21       2021/22       2022/23       2023/24  \n",
      "Total industry visits 58,425,200.48 60,175,077.20 64,644,263.00 59,800,235.60  \n",
      "VRI Visits (17MTN)     7,138,060.00  8,230,921.01  8,811,656.02  8,377,906.03  \n",
      "VRI Visits (Peak)        885,240.00    975,067.00  1,084,401.00  1,002,793.00  \n",
      "VRI Visits (7S)                 NaN           NaN    229,853.00    190,396.00  \n"
     ]
    }
   ],
   "source": [
    "pass_total = pd.concat([mkt_total, vri_pass_total], axis=0, ignore_index=False)\n",
    "print(pass_total)"
   ]
  },
  {
   "cell_type": "code",
   "execution_count": 163,
   "id": "b8f6bc5d",
   "metadata": {},
   "outputs": [
    {
     "name": "stdout",
     "output_type": "stream",
     "text": [
      "Season                      2012/13       2013/14       2014/15       2015/16  \\\n",
      "Total industry visits 56,904,226.77 55,969,413.46 52,983,180.22 52,157,828.63   \n",
      "VRI Visits (17MTN)              NaN           NaN           NaN           NaN   \n",
      "VRI Visits (Peak)               NaN           NaN           NaN           NaN   \n",
      "VRI Visits (7S)                 NaN           NaN           NaN           NaN   \n",
      "VRI Share (17MTN)               NaN           NaN           NaN           NaN   \n",
      "VRI Share (Peak)                NaN           NaN           NaN           NaN   \n",
      "VRI Share (7S)                  NaN           NaN           NaN           NaN   \n",
      "\n",
      "Season                      2016/17       2017/18       2018/19       2019/20  \\\n",
      "Total industry visits 54,208,793.34 52,765,389.63 58,625,979.45 50,540,814.84   \n",
      "VRI Visits (17MTN)              NaN           NaN  6,187,427.02  5,243,225.99   \n",
      "VRI Visits (Peak)               NaN           NaN           NaN    792,886.00   \n",
      "VRI Visits (7S)                 NaN           NaN           NaN           NaN   \n",
      "VRI Share (17MTN)               NaN           NaN          0.11          0.10   \n",
      "VRI Share (Peak)                NaN           NaN           NaN          0.02   \n",
      "VRI Share (7S)                  NaN           NaN           NaN           NaN   \n",
      "\n",
      "Season                      2020/21       2021/22       2022/23       2023/24  \n",
      "Total industry visits 58,425,200.48 60,175,077.20 64,644,263.00 59,800,235.60  \n",
      "VRI Visits (17MTN)     7,138,060.00  8,230,921.01  8,811,656.02  8,377,906.03  \n",
      "VRI Visits (Peak)        885,240.00    975,067.00  1,084,401.00  1,002,793.00  \n",
      "VRI Visits (7S)                 NaN           NaN    229,853.00    190,396.00  \n",
      "VRI Share (17MTN)              0.12          0.14          0.14          0.14  \n",
      "VRI Share (Peak)               0.02          0.02          0.02          0.02  \n",
      "VRI Share (7S)                  NaN           NaN          0.00          0.00  \n"
     ]
    }
   ],
   "source": [
    "#I have index values of 'SV', '7S', 'Peak' and 'VRI'. For '7S', 'Peak', and 'VRI', I want to take the value and divide by the value in 'SV' for each season\n",
    "pass_total.loc['VRI Share (17MTN)'] = pass_total.loc['VRI Visits (17MTN)'] / pass_total.loc['Total industry visits']\n",
    "pass_total.loc['VRI Share (Peak)'] = pass_total.loc['VRI Visits (Peak)'] / pass_total.loc['Total industry visits']\n",
    "pass_total.loc['VRI Share (7S)'] = pass_total.loc['VRI Visits (7S)'] / pass_total.loc['Total industry visits']\n",
    "#now I want to rename the index values to '7S %', 'Peak %', and 'VRI %'\n",
    "\n",
    "\n",
    "print(pass_total)"
   ]
  },
  {
   "cell_type": "code",
   "execution_count": 164,
   "id": "3cc513e5",
   "metadata": {},
   "outputs": [],
   "source": [
    "def generate_table(\n",
    "    mkt_df,\n",
    "    vri_df,\n",
    "    filters=None,\n",
    "    group_column='VRI or Peak',\n",
    "    total_label='Total industry visits',\n",
    "    metric='SV',\n",
    "    group_order=['17MTN', 'Peak', '7S'],\n",
    "    rename_index_map=None\n",
    "):\n",
    "    \"\"\"\n",
    "    Generate a summary DataFrame with optional filters and share calculations.\n",
    "\n",
    "    Parameters:\n",
    "    - mkt_df, vri_df: DataFrames\n",
    "    - filters: dict of {column_name: filter_value or None}\n",
    "    - group_column: column in vri_df to group by (e.g. 'VRI or Peak')\n",
    "    - total_label: row label for market total\n",
    "    - metric: column to aggregate\n",
    "    - group_order: list of group values to order rows\n",
    "    - rename_index_map: optional dict to rename index labels\n",
    "\n",
    "    Returns:\n",
    "    - DataFrame with total visits and share calculations\n",
    "    \"\"\"\n",
    "\n",
    "    def apply_filters(df, filters):\n",
    "        if not filters:\n",
    "            return df\n",
    "        for col, val in filters.items():\n",
    "            if val is not None:\n",
    "                df = df[df[col] == val]\n",
    "        return df\n",
    "\n",
    "    # Apply filters\n",
    "    mkt_subset = apply_filters(mkt_df, filters)\n",
    "    vri_subset = apply_filters(vri_df, filters)\n",
    "\n",
    "    # Market total\n",
    "    mkt_total = mkt_subset.groupby('Season')[metric].sum().reset_index()\n",
    "    mkt_total = mkt_total.set_index('Season').T\n",
    "    mkt_total.index = [total_label]\n",
    "\n",
    "    # VRI group totals\n",
    "    vri_grouped = vri_subset.groupby(['Season', group_column])[metric].sum().reset_index()\n",
    "    vri_pivot = vri_grouped.pivot(index=group_column, columns='Season', values=metric)\n",
    "\n",
    "    # Reorder and rename\n",
    "    vri_pivot = vri_pivot.reindex(group_order)\n",
    "    if rename_index_map:\n",
    "        vri_pivot.index = [rename_index_map.get(i, i) for i in vri_pivot.index]\n",
    "\n",
    "    # Combine and compute shares\n",
    "    combined = pd.concat([mkt_total, vri_pivot], axis=0)\n",
    "    for idx in vri_pivot.index:\n",
    "        share_label = idx.replace('Visits', 'Share')\n",
    "        combined.loc[share_label] = combined.loc[idx] / combined.loc[total_label]\n",
    "\n",
    "    return combined\n"
   ]
  },
  {
   "cell_type": "code",
   "execution_count": 165,
   "id": "5636f57c",
   "metadata": {},
   "outputs": [
    {
     "name": "stdout",
     "output_type": "stream",
     "text": [
      "Season                      2012/13       2013/14       2014/15       2015/16  \\\n",
      "Total industry visits 18,356,524.97 20,099,343.95 18,257,615.93 18,747,171.58   \n",
      "VRI Visits (17MTN)              NaN           NaN           NaN           NaN   \n",
      "VRI Visits (Peak)               NaN           NaN           NaN           NaN   \n",
      "VRI Visits (7S)                 NaN           NaN           NaN           NaN   \n",
      "VRI Share (17MTN)               NaN           NaN           NaN           NaN   \n",
      "VRI Share (Peak)                NaN           NaN           NaN           NaN   \n",
      "VRI Share (7S)                  NaN           NaN           NaN           NaN   \n",
      "\n",
      "Season                      2016/17       2017/18       2018/19       2019/20  \\\n",
      "Total industry visits 20,330,000.24 19,790,779.54 23,239,819.02 19,924,122.02   \n",
      "VRI Visits (17MTN)              NaN           NaN  6,187,427.02  5,243,225.99   \n",
      "VRI Visits (Peak)               NaN           NaN           NaN    792,886.00   \n",
      "VRI Visits (7S)                 NaN           NaN           NaN           NaN   \n",
      "VRI Share (17MTN)               NaN           NaN          0.27          0.26   \n",
      "VRI Share (Peak)                NaN           NaN           NaN          0.04   \n",
      "VRI Share (7S)                  NaN           NaN           NaN           NaN   \n",
      "\n",
      "Season                      2020/21       2021/22       2022/23       2023/24  \n",
      "Total industry visits 24,242,475.34 28,472,077.59 31,902,604.22 35,297,662.23  \n",
      "VRI Visits (17MTN)     7,138,060.00  8,230,921.01  8,811,656.02  8,377,906.03  \n",
      "VRI Visits (Peak)        885,240.00    975,067.00  1,084,401.00  1,002,793.00  \n",
      "VRI Visits (7S)                 NaN           NaN    229,853.00    190,396.00  \n",
      "VRI Share (17MTN)              0.29          0.29          0.28          0.24  \n",
      "VRI Share (Peak)               0.04          0.03          0.03          0.03  \n",
      "VRI Share (7S)                  NaN           NaN          0.01          0.01  \n"
     ]
    }
   ],
   "source": [
    "rename_map = {\n",
    "    '17MTN': 'VRI Visits (17MTN)',\n",
    "    'Peak': 'VRI Visits (Peak)',\n",
    "    '7S': 'VRI Visits (7S)'\n",
    "}\n",
    "\n",
    "pass_df = generate_table(\n",
    "    mkt_df=mkt,\n",
    "    vri_df=vri,\n",
    "    filters={\n",
    "        'Ticket Type': 'Pass',  # <- apply this filter\n",
    "        'Region': None          # <- do not filter by region\n",
    "    },\n",
    "    group_column='VRI or Peak',\n",
    "    total_label='Total industry visits',\n",
    "    rename_index_map=rename_map\n",
    ")\n",
    "print(pass_df)"
   ]
  },
  {
   "cell_type": "code",
   "execution_count": 166,
   "id": "93f01c94",
   "metadata": {},
   "outputs": [
    {
     "name": "stdout",
     "output_type": "stream",
     "text": [
      "Season                      2012/13       2013/14       2014/15       2015/16  \\\n",
      "Total industry visits 38,547,701.80 35,870,069.51 34,725,564.29 33,410,657.05   \n",
      "VRI Visits (17MTN)              NaN           NaN           NaN           NaN   \n",
      "VRI Visits (Peak)               NaN           NaN           NaN           NaN   \n",
      "VRI Visits (7S)                 NaN           NaN           NaN           NaN   \n",
      "VRI Share (17MTN)               NaN           NaN           NaN           NaN   \n",
      "VRI Share (Peak)                NaN           NaN           NaN           NaN   \n",
      "VRI Share (7S)                  NaN           NaN           NaN           NaN   \n",
      "\n",
      "Season                      2016/17       2017/18       2018/19       2019/20  \\\n",
      "Total industry visits 33,878,793.10 32,974,610.09 35,386,160.43 30,616,692.81   \n",
      "VRI Visits (17MTN)              NaN           NaN  4,105,419.91  2,862,582.39   \n",
      "VRI Visits (Peak)               NaN           NaN           NaN  1,140,387.00   \n",
      "VRI Visits (7S)                 NaN           NaN           NaN           NaN   \n",
      "VRI Share (17MTN)               NaN           NaN          0.12          0.09   \n",
      "VRI Share (Peak)                NaN           NaN           NaN          0.04   \n",
      "VRI Share (7S)                  NaN           NaN           NaN           NaN   \n",
      "\n",
      "Season                      2020/21       2021/22       2022/23       2023/24  \n",
      "Total industry visits 34,182,725.14 31,702,999.62 32,741,658.79 24,502,573.37  \n",
      "VRI Visits (17MTN)     2,711,127.77  2,881,692.12  2,653,292.09  2,179,089.13  \n",
      "VRI Visits (Peak)      1,022,077.00    814,300.07    688,103.08    563,003.95  \n",
      "VRI Visits (7S)                 NaN           NaN     98,891.00     95,162.96  \n",
      "VRI Share (17MTN)              0.08          0.09          0.08          0.09  \n",
      "VRI Share (Peak)               0.03          0.03          0.02          0.02  \n",
      "VRI Share (7S)                  NaN           NaN          0.00          0.00  \n"
     ]
    }
   ],
   "source": [
    "paid_df = generate_table(\n",
    "    mkt_df=mkt,\n",
    "    vri_df=vri,\n",
    "    filters={\n",
    "        'Ticket Type': 'Paid',  # <- apply this filter\n",
    "        'Region': None          # <- do not filter by region\n",
    "    },\n",
    "    group_column='VRI or Peak',\n",
    "    total_label='Total industry visits',\n",
    "    rename_index_map=rename_map\n",
    ")\n",
    "print(paid_df)"
   ]
  },
  {
   "cell_type": "code",
   "execution_count": 167,
   "id": "a467e508",
   "metadata": {},
   "outputs": [
    {
     "name": "stdout",
     "output_type": "stream",
     "text": [
      "Season                      2012/13       2013/14       2014/15       2015/16  \\\n",
      "Total industry visits 56,904,226.77 55,969,413.46 52,983,180.22 52,157,828.63   \n",
      "VRI Visits (17MTN)              NaN           NaN           NaN           NaN   \n",
      "VRI Visits (Peak)               NaN           NaN           NaN           NaN   \n",
      "VRI Visits (7S)                 NaN           NaN           NaN           NaN   \n",
      "VRI Share (17MTN)               NaN           NaN           NaN           NaN   \n",
      "VRI Share (Peak)                NaN           NaN           NaN           NaN   \n",
      "VRI Share (7S)                  NaN           NaN           NaN           NaN   \n",
      "\n",
      "Season                      2016/17       2017/18       2018/19       2019/20  \\\n",
      "Total industry visits 54,208,793.34 52,765,389.63 58,625,979.45 50,540,814.84   \n",
      "VRI Visits (17MTN)              NaN           NaN 10,292,846.93  8,105,808.38   \n",
      "VRI Visits (Peak)               NaN           NaN           NaN  1,933,273.00   \n",
      "VRI Visits (7S)                 NaN           NaN           NaN           NaN   \n",
      "VRI Share (17MTN)               NaN           NaN          0.18          0.16   \n",
      "VRI Share (Peak)                NaN           NaN           NaN          0.04   \n",
      "VRI Share (7S)                  NaN           NaN           NaN           NaN   \n",
      "\n",
      "Season                      2020/21       2021/22       2022/23       2023/24  \n",
      "Total industry visits 58,425,200.48 60,175,077.20 64,644,263.00 59,800,235.60  \n",
      "VRI Visits (17MTN)     9,849,187.77 11,112,613.13 11,464,948.11 10,556,995.16  \n",
      "VRI Visits (Peak)      1,907,317.00  1,789,367.07  1,772,504.08  1,565,796.95  \n",
      "VRI Visits (7S)                 NaN           NaN    328,744.00    285,558.96  \n",
      "VRI Share (17MTN)              0.17          0.18          0.18          0.18  \n",
      "VRI Share (Peak)               0.03          0.03          0.03          0.03  \n",
      "VRI Share (7S)                  NaN           NaN          0.01          0.00  \n"
     ]
    }
   ],
   "source": [
    "total_df = generate_table(\n",
    "    mkt_df=mkt,\n",
    "    vri_df=vri,\n",
    "    filters={\n",
    "        'Ticket Type': None,  # <- apply this filter\n",
    "        'Region': None          # <- do not filter by region\n",
    "    },\n",
    "    group_column='VRI or Peak',\n",
    "    total_label='Total industry visits',\n",
    "    rename_index_map=rename_map\n",
    ")\n",
    "print(total_df)"
   ]
  },
  {
   "cell_type": "code",
   "execution_count": 168,
   "id": "48045d32",
   "metadata": {},
   "outputs": [
    {
     "name": "stdout",
     "output_type": "stream",
     "text": [
      "Season                      2012/13       2013/14       2014/15       2015/16  \\\n",
      "Total industry visits 19,800,403.78 20,691,898.42 20,277,027.89 21,774,811.05   \n",
      "VRI Visits (17MTN)              NaN           NaN           NaN           NaN   \n",
      "VRI Visits (Peak)               NaN           NaN           NaN           NaN   \n",
      "VRI Visits (7S)                 NaN           NaN           NaN           NaN   \n",
      "VRI Share (17MTN)               NaN           NaN           NaN           NaN   \n",
      "VRI Share (Peak)                NaN           NaN           NaN           NaN   \n",
      "VRI Share (7S)                  NaN           NaN           NaN           NaN   \n",
      "\n",
      "Season                      2016/17       2017/18       2018/19       2019/20  \\\n",
      "Total industry visits 21,301,363.02 20,368,388.73 23,911,656.26 19,740,651.96   \n",
      "VRI Visits (17MTN)              NaN           NaN  6,909,744.96  5,451,481.15   \n",
      "VRI Visits (Peak)               NaN           NaN           NaN           NaN   \n",
      "VRI Visits (7S)                 NaN           NaN           NaN           NaN   \n",
      "VRI Share (17MTN)               NaN           NaN          0.29          0.28   \n",
      "VRI Share (Peak)                NaN           NaN           NaN           NaN   \n",
      "VRI Share (7S)                  NaN           NaN           NaN           NaN   \n",
      "\n",
      "Season                      2020/21       2021/22       2022/23       2023/24  \n",
      "Total industry visits 22,271,310.99 24,918,933.95 27,785,580.43 26,382,276.25  \n",
      "VRI Visits (17MTN)     6,443,829.00  7,498,327.96  7,613,990.50  7,126,691.92  \n",
      "VRI Visits (Peak)               NaN           NaN           NaN           NaN  \n",
      "VRI Visits (7S)                 NaN           NaN           NaN           NaN  \n",
      "VRI Share (17MTN)              0.29          0.30          0.27          0.27  \n",
      "VRI Share (Peak)                NaN           NaN           NaN           NaN  \n",
      "VRI Share (7S)                  NaN           NaN           NaN           NaN  \n"
     ]
    }
   ],
   "source": [
    "total_rockies_df = generate_table(\n",
    "    mkt_df=mkt,\n",
    "    vri_df=vri,\n",
    "    filters={\n",
    "        'Ticket Type': None,  # <- apply this filter\n",
    "        'Region': 'Rocky Mountain'          # <- do not filter by region\n",
    "    },\n",
    "    group_column='VRI or Peak',\n",
    "    total_label='Total industry visits',\n",
    "    rename_index_map=rename_map\n",
    ")\n",
    "print(total_rockies_df)"
   ]
  },
  {
   "cell_type": "code",
   "execution_count": 169,
   "id": "186c84df",
   "metadata": {},
   "outputs": [
    {
     "name": "stdout",
     "output_type": "stream",
     "text": [
      "Season                     2012/13      2013/14      2014/15      2015/16  \\\n",
      "Total industry visits 7,273,465.25 7,679,353.24 6,962,697.83 5,498,044.62   \n",
      "VRI Visits (17MTN)             NaN          NaN          NaN          NaN   \n",
      "VRI Visits (Peak)              NaN          NaN          NaN          NaN   \n",
      "VRI Visits (7S)                NaN          NaN          NaN          NaN   \n",
      "VRI Share (17MTN)              NaN          NaN          NaN          NaN   \n",
      "VRI Share (Peak)               NaN          NaN          NaN          NaN   \n",
      "VRI Share (7S)                 NaN          NaN          NaN          NaN   \n",
      "\n",
      "Season                     2016/17      2017/18      2018/19      2019/20  \\\n",
      "Total industry visits 5,403,272.18 6,229,875.24 6,470,371.07 6,369,462.05   \n",
      "VRI Visits (17MTN)             NaN          NaN   324,791.02   319,623.00   \n",
      "VRI Visits (Peak)              NaN          NaN          NaN   350,646.00   \n",
      "VRI Visits (7S)                NaN          NaN          NaN          NaN   \n",
      "VRI Share (17MTN)              NaN          NaN         0.05         0.05   \n",
      "VRI Share (Peak)               NaN          NaN          NaN         0.06   \n",
      "VRI Share (7S)                 NaN          NaN          NaN          NaN   \n",
      "\n",
      "Season                     2020/21      2021/22      2022/23      2023/24  \n",
      "Total industry visits 7,061,651.58 6,791,777.59 6,440,927.17 4,720,325.10  \n",
      "VRI Visits (17MTN)      360,832.79   347,833.01   334,179.01   217,411.01  \n",
      "VRI Visits (Peak)       357,448.00   297,105.00   273,784.00   220,969.00  \n",
      "VRI Visits (7S)                NaN          NaN          NaN          NaN  \n",
      "VRI Share (17MTN)             0.05         0.05         0.05         0.05  \n",
      "VRI Share (Peak)              0.05         0.04         0.04         0.05  \n",
      "VRI Share (7S)                 NaN          NaN          NaN          NaN  \n"
     ]
    }
   ],
   "source": [
    "total_midwest_df = generate_table(\n",
    "    mkt_df=mkt,\n",
    "    vri_df=vri,\n",
    "    filters={\n",
    "        'Ticket Type': None,  # <- apply this filter\n",
    "        'Region': 'Midwest'          # <- do not filter by region\n",
    "    },\n",
    "    group_column='VRI or Peak',\n",
    "    total_label='Total industry visits',\n",
    "    rename_index_map=rename_map\n",
    ")\n",
    "print(total_midwest_df)"
   ]
  },
  {
   "cell_type": "code",
   "execution_count": 170,
   "id": "64b508d5",
   "metadata": {},
   "outputs": [
    {
     "name": "stdout",
     "output_type": "stream",
     "text": [
      "Season                     2012/13      2013/14      2014/15      2015/16  \\\n",
      "Total industry visits 5,155,137.88 5,769,158.07 5,673,328.03 3,956,576.55   \n",
      "VRI Visits (17MTN)             NaN          NaN          NaN          NaN   \n",
      "VRI Visits (Peak)              NaN          NaN          NaN          NaN   \n",
      "VRI Visits (7S)                NaN          NaN          NaN          NaN   \n",
      "VRI Share (17MTN)              NaN          NaN          NaN          NaN   \n",
      "VRI Share (Peak)               NaN          NaN          NaN          NaN   \n",
      "VRI Share (7S)                 NaN          NaN          NaN          NaN   \n",
      "\n",
      "Season                     2016/17      2017/18      2018/19      2019/20  \\\n",
      "Total industry visits 4,184,432.41 4,160,753.52 4,262,269.10 3,835,312.00   \n",
      "VRI Visits (17MTN)             NaN          NaN          NaN          NaN   \n",
      "VRI Visits (Peak)              NaN          NaN          NaN   536,652.00   \n",
      "VRI Visits (7S)                NaN          NaN          NaN          NaN   \n",
      "VRI Share (17MTN)              NaN          NaN          NaN          NaN   \n",
      "VRI Share (Peak)               NaN          NaN          NaN         0.14   \n",
      "VRI Share (7S)                 NaN          NaN          NaN          NaN   \n",
      "\n",
      "Season                     2020/21      2021/22      2022/23      2023/24  \n",
      "Total industry visits 5,211,777.50 4,391,880.29 4,248,537.76 4,111,357.65  \n",
      "VRI Visits (17MTN)             NaN          NaN          NaN          NaN  \n",
      "VRI Visits (Peak)       577,949.00   567,691.19   473,952.16   423,755.00  \n",
      "VRI Visits (7S)                NaN          NaN   328,744.00   285,558.96  \n",
      "VRI Share (17MTN)              NaN          NaN          NaN          NaN  \n",
      "VRI Share (Peak)              0.11         0.13         0.11         0.10  \n",
      "VRI Share (7S)                 NaN          NaN         0.08         0.07  \n"
     ]
    }
   ],
   "source": [
    "total_midatlantic_df = generate_table(\n",
    "    mkt_df=mkt,\n",
    "    vri_df=vri,\n",
    "    filters={\n",
    "        'Ticket Type': None,  # <- apply this filter\n",
    "        'Region': 'Mid Atlantic'          # <- do not filter by region\n",
    "    },\n",
    "    group_column='VRI or Peak',\n",
    "    total_label='Total industry visits',\n",
    "    rename_index_map=rename_map\n",
    ")\n",
    "print(total_midatlantic_df)"
   ]
  },
  {
   "cell_type": "code",
   "execution_count": 171,
   "id": "5ecada06",
   "metadata": {},
   "outputs": [
    {
     "name": "stdout",
     "output_type": "stream",
     "text": [
      "Season                      2012/13       2013/14       2014/15      2015/16  \\\n",
      "Total industry visits 13,333,571.53 13,385,941.14 13,332,252.17 9,346,316.20   \n",
      "VRI Visits (17MTN)              NaN           NaN           NaN          NaN   \n",
      "VRI Visits (Peak)               NaN           NaN           NaN          NaN   \n",
      "VRI Visits (7S)                 NaN           NaN           NaN          NaN   \n",
      "VRI Share (17MTN)               NaN           NaN           NaN          NaN   \n",
      "VRI Share (Peak)                NaN           NaN           NaN          NaN   \n",
      "VRI Share (7S)                  NaN           NaN           NaN          NaN   \n",
      "\n",
      "Season                      2016/17       2017/18       2018/19       2019/20  \\\n",
      "Total industry visits 11,936,450.77 11,986,511.05 12,445,257.71 11,433,968.99   \n",
      "VRI Visits (17MTN)              NaN           NaN    965,449.94    865,115.45   \n",
      "VRI Visits (Peak)               NaN           NaN           NaN  1,045,975.00   \n",
      "VRI Visits (7S)                 NaN           NaN           NaN           NaN   \n",
      "VRI Share (17MTN)               NaN           NaN          0.08          0.08   \n",
      "VRI Share (Peak)                NaN           NaN           NaN          0.09   \n",
      "VRI Share (7S)                  NaN           NaN           NaN           NaN   \n",
      "\n",
      "Season                      2020/21       2021/22       2022/23       2023/24  \n",
      "Total industry visits 12,153,358.21 12,585,329.53 13,114,732.21 12,323,071.84  \n",
      "VRI Visits (17MTN)     1,053,597.95  1,211,904.92  1,171,098.91  1,142,234.19  \n",
      "VRI Visits (Peak)        971,920.00    924,570.88  1,024,767.92    921,072.95  \n",
      "VRI Visits (7S)                 NaN           NaN           NaN           NaN  \n",
      "VRI Share (17MTN)              0.09          0.10          0.09          0.09  \n",
      "VRI Share (Peak)               0.08          0.07          0.08          0.07  \n",
      "VRI Share (7S)                  NaN           NaN           NaN           NaN  \n"
     ]
    }
   ],
   "source": [
    "total_northeast_df = generate_table(\n",
    "    mkt_df=mkt,\n",
    "    vri_df=vri,\n",
    "    filters={\n",
    "        'Ticket Type': None,  # <- apply this filter\n",
    "        'Region': 'Northeast'          # <- do not filter by region\n",
    "    },\n",
    "    group_column='VRI or Peak',\n",
    "    total_label='Total industry visits',\n",
    "    rename_index_map=rename_map\n",
    ")\n",
    "print(total_northeast_df)"
   ]
  },
  {
   "cell_type": "code",
   "execution_count": 172,
   "id": "e9e12b1f",
   "metadata": {},
   "outputs": [
    {
     "name": "stdout",
     "output_type": "stream",
     "text": [
      "Season                     2012/13      2013/14      2014/15      2015/16  \\\n",
      "Total industry visits 7,140,140.78 5,055,859.79 4,737,645.60 7,376,469.04   \n",
      "VRI Visits (17MTN)             NaN          NaN          NaN          NaN   \n",
      "VRI Visits (Peak)              NaN          NaN          NaN          NaN   \n",
      "VRI Visits (7S)                NaN          NaN          NaN          NaN   \n",
      "VRI Share (17MTN)              NaN          NaN          NaN          NaN   \n",
      "VRI Share (Peak)               NaN          NaN          NaN          NaN   \n",
      "VRI Share (7S)                 NaN          NaN          NaN          NaN   \n",
      "\n",
      "Season                     2016/17      2017/18      2018/19      2019/20  \\\n",
      "Total industry visits 7,285,058.93 6,169,866.33 7,482,368.81 5,880,240.36   \n",
      "VRI Visits (17MTN)             NaN          NaN 1,755,698.00 1,221,224.63   \n",
      "VRI Visits (Peak)              NaN          NaN          NaN          NaN   \n",
      "VRI Visits (7S)                NaN          NaN          NaN          NaN   \n",
      "VRI Share (17MTN)              NaN          NaN         0.23         0.21   \n",
      "VRI Share (Peak)               NaN          NaN          NaN          NaN   \n",
      "VRI Share (7S)                 NaN          NaN          NaN          NaN   \n",
      "\n",
      "Season                     2020/21      2021/22      2022/23      2023/24  \n",
      "Total industry visits 7,197,278.38 7,345,403.58 8,432,301.68 8,067,893.14  \n",
      "VRI Visits (17MTN)    1,576,192.03 1,739,376.25 1,947,736.90 1,726,099.96  \n",
      "VRI Visits (Peak)              NaN          NaN          NaN          NaN  \n",
      "VRI Visits (7S)                NaN          NaN          NaN          NaN  \n",
      "VRI Share (17MTN)             0.22         0.24         0.23         0.21  \n",
      "VRI Share (Peak)               NaN          NaN          NaN          NaN  \n",
      "VRI Share (7S)                 NaN          NaN          NaN          NaN  \n"
     ]
    }
   ],
   "source": [
    "total_pacific_southwest_df = generate_table(\n",
    "    mkt_df=mkt,\n",
    "    vri_df=vri,\n",
    "    filters={\n",
    "        'Ticket Type': None,  # <- apply this filter\n",
    "        'Region': 'Pacific Southwest'          # <- do not filter by region\n",
    "    },\n",
    "    group_column='VRI or Peak',\n",
    "    total_label='Total industry visits',\n",
    "    rename_index_map=rename_map\n",
    ")\n",
    "print(total_pacific_southwest_df)"
   ]
  },
  {
   "cell_type": "code",
   "execution_count": 173,
   "id": "fb522304",
   "metadata": {},
   "outputs": [
    {
     "name": "stdout",
     "output_type": "stream",
     "text": [
      "Season                     2012/13      2013/14      2014/15      2015/16  \\\n",
      "Total industry visits 4,201,507.55 3,387,202.79 2,000,228.70 4,205,611.16   \n",
      "VRI Visits (17MTN)             NaN          NaN          NaN          NaN   \n",
      "VRI Visits (Peak)              NaN          NaN          NaN          NaN   \n",
      "VRI Visits (7S)                NaN          NaN          NaN          NaN   \n",
      "VRI Share (17MTN)              NaN          NaN          NaN          NaN   \n",
      "VRI Share (Peak)               NaN          NaN          NaN          NaN   \n",
      "VRI Share (7S)                 NaN          NaN          NaN          NaN   \n",
      "\n",
      "Season                     2016/17      2017/18      2018/19      2019/20  \\\n",
      "Total industry visits 4,098,216.04 3,849,994.77 4,054,056.50 3,281,179.47   \n",
      "VRI Visits (17MTN)             NaN          NaN   337,163.01   248,364.15   \n",
      "VRI Visits (Peak)              NaN          NaN          NaN          NaN   \n",
      "VRI Visits (7S)                NaN          NaN          NaN          NaN   \n",
      "VRI Share (17MTN)              NaN          NaN         0.08         0.08   \n",
      "VRI Share (Peak)               NaN          NaN          NaN          NaN   \n",
      "VRI Share (7S)                 NaN          NaN          NaN          NaN   \n",
      "\n",
      "Season                     2020/21      2021/22      2022/23      2023/24  \n",
      "Total industry visits 4,529,823.81 4,141,752.27 4,622,183.75 4,195,311.61  \n",
      "VRI Visits (17MTN)      414,736.00   315,170.99   397,942.79   344,558.08  \n",
      "VRI Visits (Peak)              NaN          NaN          NaN          NaN  \n",
      "VRI Visits (7S)                NaN          NaN          NaN          NaN  \n",
      "VRI Share (17MTN)             0.09         0.08         0.09         0.08  \n",
      "VRI Share (Peak)               NaN          NaN          NaN          NaN  \n",
      "VRI Share (7S)                 NaN          NaN          NaN          NaN  \n"
     ]
    }
   ],
   "source": [
    "total_pacific_northwest_df = generate_table(\n",
    "    mkt_df=mkt,\n",
    "    vri_df=vri,\n",
    "    filters={\n",
    "        'Ticket Type': None,  # <- apply this filter\n",
    "        'Region': 'Pacific Northwest'          # <- do not filter by region\n",
    "    },\n",
    "    group_column='VRI or Peak',\n",
    "    total_label='Total industry visits',\n",
    "    rename_index_map=rename_map\n",
    ")\n",
    "print(total_pacific_northwest_df)"
   ]
  },
  {
   "cell_type": "code",
   "execution_count": 174,
   "id": "c15fe67c",
   "metadata": {},
   "outputs": [
    {
     "name": "stdout",
     "output_type": "stream",
     "text": [
      "Season                      2012/13       2013/14       2014/15       2015/16  \\\n",
      "Total industry visits 40,187,397.03 39,885,874.31 36,341,158.62 35,359,174.10   \n",
      "VRI Visits (17MTN)              NaN           NaN           NaN           NaN   \n",
      "VRI Visits (Peak)               NaN           NaN           NaN           NaN   \n",
      "VRI Visits (7S)                 NaN           NaN           NaN           NaN   \n",
      "VRI Share (17MTN)               NaN           NaN           NaN           NaN   \n",
      "VRI Share (Peak)                NaN           NaN           NaN           NaN   \n",
      "VRI Share (7S)                  NaN           NaN           NaN           NaN   \n",
      "\n",
      "Season                      2016/17       2017/18       2018/19       2019/20  \\\n",
      "Total industry visits 37,127,058.46 36,188,011.01 40,364,673.02 34,548,038.27   \n",
      "VRI Visits (17MTN)              NaN           NaN  4,983,954.41  3,803,048.68   \n",
      "VRI Visits (Peak)               NaN           NaN           NaN  1,933,273.00   \n",
      "VRI Visits (7S)                 NaN           NaN           NaN           NaN   \n",
      "VRI Share (17MTN)               NaN           NaN          0.12          0.11   \n",
      "VRI Share (Peak)                NaN           NaN           NaN          0.06   \n",
      "VRI Share (7S)                  NaN           NaN           NaN           NaN   \n",
      "\n",
      "Season                      2020/21       2021/22       2022/23       2023/24  \n",
      "Total industry visits 41,112,064.82 39,683,269.67 42,504,947.94 39,036,114.57  \n",
      "VRI Visits (17MTN)     4,967,808.73  4,952,866.72  5,367,740.40  4,885,964.10  \n",
      "VRI Visits (Peak)      1,907,316.66  1,789,360.32  1,772,499.05  1,565,792.99  \n",
      "VRI Visits (7S)                 NaN           NaN    328,744.00    285,558.96  \n",
      "VRI Share (17MTN)              0.12          0.12          0.13          0.13  \n",
      "VRI Share (Peak)               0.05          0.05          0.04          0.04  \n",
      "VRI Share (7S)                  NaN           NaN          0.01          0.01  \n"
     ]
    }
   ],
   "source": [
    "total_local_df = generate_table(\n",
    "    mkt_df=mkt,\n",
    "    vri_df=vri,\n",
    "    filters={\n",
    "        'Ticket Type': None,  # <- apply this filter\n",
    "        'Region': None,\n",
    "        'VisGeo': 'Local'         # <- do not filter by region\n",
    "    },\n",
    "    group_column='VRI or Peak',\n",
    "    total_label='Total industry visits',\n",
    "    rename_index_map=rename_map\n",
    ")\n",
    "print(total_local_df)"
   ]
  },
  {
   "cell_type": "code",
   "execution_count": 175,
   "id": "d266e016",
   "metadata": {},
   "outputs": [
    {
     "name": "stdout",
     "output_type": "stream",
     "text": [
      "Season                      2012/13       2013/14       2014/15       2015/16  \\\n",
      "Total industry visits 14,918,135.49 14,529,676.67 14,944,880.19 15,209,551.06   \n",
      "VRI Visits (17MTN)              NaN           NaN           NaN           NaN   \n",
      "VRI Visits (Peak)               NaN           NaN           NaN           NaN   \n",
      "VRI Visits (7S)                 NaN           NaN           NaN           NaN   \n",
      "VRI Share (17MTN)               NaN           NaN           NaN           NaN   \n",
      "VRI Share (Peak)                NaN           NaN           NaN           NaN   \n",
      "VRI Share (7S)                  NaN           NaN           NaN           NaN   \n",
      "\n",
      "Season                      2016/17       2017/18       2018/19       2019/20  \\\n",
      "Total industry visits 15,523,466.62 15,026,739.87 16,833,342.32 14,744,451.47   \n",
      "VRI Visits (17MTN)              NaN           NaN  4,920,508.69  3,981,998.28   \n",
      "VRI Visits (Peak)               NaN           NaN           NaN          0.00   \n",
      "VRI Visits (7S)                 NaN           NaN           NaN           NaN   \n",
      "VRI Share (17MTN)               NaN           NaN          0.29          0.27   \n",
      "VRI Share (Peak)                NaN           NaN           NaN          0.00   \n",
      "VRI Share (7S)                  NaN           NaN           NaN           NaN   \n",
      "\n",
      "Season                      2020/21       2021/22       2022/23       2023/24  \n",
      "Total industry visits 16,586,917.33 19,473,966.65 20,933,333.07 19,502,388.36  \n",
      "VRI Visits (17MTN)     4,711,329.86  5,857,028.29  5,743,123.40  5,330,541.78  \n",
      "VRI Visits (Peak)              0.34          6.75          5.03          3.96  \n",
      "VRI Visits (7S)                 NaN           NaN          0.00          0.00  \n",
      "VRI Share (17MTN)              0.28          0.30          0.27          0.27  \n",
      "VRI Share (Peak)               0.00          0.00          0.00          0.00  \n",
      "VRI Share (7S)                  NaN           NaN          0.00          0.00  \n"
     ]
    }
   ],
   "source": [
    "total_destination_df = generate_table(\n",
    "    mkt_df=mkt,\n",
    "    vri_df=vri,\n",
    "    filters={\n",
    "        'Ticket Type': None,  # <- apply this filter\n",
    "        'Region': None,\n",
    "        'VisGeo': 'Destination'         # <- do not filter by region\n",
    "    },\n",
    "    group_column='VRI or Peak',\n",
    "    total_label='Total industry visits',\n",
    "    rename_index_map=rename_map\n",
    ")\n",
    "print(total_destination_df)"
   ]
  },
  {
   "cell_type": "code",
   "execution_count": 176,
   "id": "e9d120cb",
   "metadata": {},
   "outputs": [
    {
     "name": "stdout",
     "output_type": "stream",
     "text": [
      "Season                     2012/13      2013/14      2014/15      2015/16  \\\n",
      "Total industry visits 1,798,694.25 1,553,862.49 1,697,141.41 1,589,103.47   \n",
      "VRI Visits (17MTN)             NaN          NaN          NaN          NaN   \n",
      "VRI Visits (Peak)              NaN          NaN          NaN          NaN   \n",
      "VRI Visits (7S)                NaN          NaN          NaN          NaN   \n",
      "VRI Share (17MTN)              NaN          NaN          NaN          NaN   \n",
      "VRI Share (Peak)               NaN          NaN          NaN          NaN   \n",
      "VRI Share (7S)                 NaN          NaN          NaN          NaN   \n",
      "\n",
      "Season                     2016/17      2017/18      2018/19      2019/20  \\\n",
      "Total industry visits 1,558,268.26 1,550,638.75 1,427,964.11 1,248,325.09   \n",
      "VRI Visits (17MTN)             NaN          NaN   388,383.83   320,761.42   \n",
      "VRI Visits (Peak)              NaN          NaN          NaN         0.00   \n",
      "VRI Visits (7S)                NaN          NaN          NaN          NaN   \n",
      "VRI Share (17MTN)              NaN          NaN         0.27         0.26   \n",
      "VRI Share (Peak)               NaN          NaN          NaN         0.00   \n",
      "VRI Share (7S)                 NaN          NaN          NaN          NaN   \n",
      "\n",
      "Season                   2020/21      2021/22      2022/23      2023/24  \n",
      "Total industry visits 726,218.33 1,017,840.88 1,205,981.99 1,261,732.67  \n",
      "VRI Visits (17MTN)    170,049.18   302,718.12   354,084.31   340,489.28  \n",
      "VRI Visits (Peak)           0.00         0.00         0.00         0.00  \n",
      "VRI Visits (7S)              NaN          NaN         0.00         0.00  \n",
      "VRI Share (17MTN)           0.23         0.30         0.29         0.27  \n",
      "VRI Share (Peak)            0.00         0.00         0.00         0.00  \n",
      "VRI Share (7S)               NaN          NaN         0.00         0.00  \n"
     ]
    }
   ],
   "source": [
    "total_international_df = generate_table(\n",
    "    mkt_df=mkt,\n",
    "    vri_df=vri,\n",
    "    filters={\n",
    "        'Ticket Type': None,  # <- apply this filter\n",
    "        'Region': None,\n",
    "        'VisGeo': 'International'         # <- do not filter by region\n",
    "    },\n",
    "    group_column='VRI or Peak',\n",
    "    total_label='Total industry visits',\n",
    "    rename_index_map=rename_map\n",
    ")\n",
    "print(total_international_df)"
   ]
  },
  {
   "cell_type": "markdown",
   "id": "395a4f21",
   "metadata": {},
   "source": [
    "## create the Pass/Paid by Region"
   ]
  },
  {
   "cell_type": "code",
   "execution_count": 181,
   "id": "db2aef3b",
   "metadata": {},
   "outputs": [
    {
     "name": "stdout",
     "output_type": "stream",
     "text": [
      "Generating table for: Rocky Mountain - Pass\n",
      "Generating table for: Rocky Mountain - Paid\n",
      "Generating table for: Rocky Mountain - Total\n",
      "Generating table for: Midwest - Pass\n",
      "Generating table for: Midwest - Paid\n",
      "Generating table for: Midwest - Total\n",
      "Generating table for: Mid Atlantic - Pass\n",
      "Generating table for: Mid Atlantic - Paid\n",
      "Generating table for: Mid Atlantic - Total\n",
      "Generating table for: Northeast - Pass\n",
      "Generating table for: Northeast - Paid\n",
      "Generating table for: Northeast - Total\n",
      "Generating table for: Pacific Southwest - Pass\n",
      "Generating table for: Pacific Southwest - Paid\n",
      "Generating table for: Pacific Southwest - Total\n",
      "Generating table for: Pacific Northwest - Pass\n",
      "Generating table for: Pacific Northwest - Paid\n",
      "Generating table for: Pacific Northwest - Total\n"
     ]
    }
   ],
   "source": [
    "regions = [\n",
    "    'Rocky Mountain', 'Midwest', 'Mid Atlantic',\n",
    "    'Northeast', 'Pacific Southwest', 'Pacific Northwest'\n",
    "]\n",
    "\n",
    "ticket_types = ['Pass', 'Paid', None]  # None means \"Total\"\n",
    "\n",
    "reg_tt = {}\n",
    "\n",
    "for region in regions:\n",
    "    for ticket_type in ticket_types:\n",
    "        label = f\"{region} - {ticket_type or 'Total'}\"\n",
    "        print(f\"Generating table for: {label}\")\n",
    "        \n",
    "        try:\n",
    "            table = generate_table(\n",
    "                mkt_df=mkt,\n",
    "                vri_df=vri,\n",
    "                filters={\n",
    "                    'Region': region,\n",
    "                    'Ticket Type': ticket_type\n",
    "                },\n",
    "                group_column='VRI or Peak',\n",
    "                total_label='Total industry visits',\n",
    "                rename_index_map=rename_map\n",
    "            )\n",
    "            reg_tt[label] = table  # Store in a dict with a descriptive key\n",
    "        except Exception as e:\n",
    "            print(f\"⚠️ Failed for {label}: {e}\")\n"
   ]
  },
  {
   "cell_type": "code",
   "execution_count": null,
   "id": "efce4c30",
   "metadata": {},
   "outputs": [
    {
     "name": "stdout",
     "output_type": "stream",
     "text": [
      "Season                     2012/13      2013/14    2014/15      2015/16  \\\n",
      "Total industry visits 1,663,687.48 1,425,746.11 845,960.40 1,524,788.39   \n",
      "VRI Visits (17MTN)             NaN          NaN        NaN          NaN   \n",
      "VRI Visits (Peak)              NaN          NaN        NaN          NaN   \n",
      "VRI Visits (7S)                NaN          NaN        NaN          NaN   \n",
      "VRI Share (17MTN)              NaN          NaN        NaN          NaN   \n",
      "VRI Share (Peak)               NaN          NaN        NaN          NaN   \n",
      "VRI Share (7S)                 NaN          NaN        NaN          NaN   \n",
      "\n",
      "Season                     2016/17      2017/18      2018/19      2019/20  \\\n",
      "Total industry visits 1,537,070.72 1,556,811.53 1,736,166.01 1,304,715.66   \n",
      "VRI Visits (17MTN)             NaN          NaN   191,036.00   145,285.00   \n",
      "VRI Visits (Peak)              NaN          NaN          NaN          NaN   \n",
      "VRI Visits (7S)                NaN          NaN          NaN          NaN   \n",
      "VRI Share (17MTN)              NaN          NaN         0.11         0.11   \n",
      "VRI Share (Peak)               NaN          NaN          NaN          NaN   \n",
      "VRI Share (7S)                 NaN          NaN          NaN          NaN   \n",
      "\n",
      "Season                     2020/21      2021/22      2022/23      2023/24  \n",
      "Total industry visits 2,005,683.82 1,947,611.23 2,038,105.14 2,468,152.45  \n",
      "VRI Visits (17MTN)      284,675.00   235,160.99   303,661.00   269,241.00  \n",
      "VRI Visits (Peak)              NaN          NaN          NaN          NaN  \n",
      "VRI Visits (7S)                NaN          NaN          NaN          NaN  \n",
      "VRI Share (17MTN)             0.14         0.12         0.15         0.11  \n",
      "VRI Share (Peak)               NaN          NaN          NaN          NaN  \n",
      "VRI Share (7S)                 NaN          NaN          NaN          NaN  \n"
     ]
    }
   ],
   "source": [
    "#print(reg_tt['Pacific Northwest - Pass'])"
   ]
  },
  {
   "cell_type": "markdown",
   "id": "3e8091c9",
   "metadata": {},
   "source": [
    "## Region x VisGeo"
   ]
  },
  {
   "cell_type": "code",
   "execution_count": 183,
   "id": "5ebe5725",
   "metadata": {},
   "outputs": [
    {
     "name": "stdout",
     "output_type": "stream",
     "text": [
      "Generating table for: Rocky Mountain - Local\n",
      "Generating table for: Rocky Mountain - Destination\n",
      "Generating table for: Rocky Mountain - International\n",
      "Generating table for: Midwest - Local\n",
      "Generating table for: Midwest - Destination\n",
      "Generating table for: Midwest - International\n",
      "Generating table for: Mid Atlantic - Local\n",
      "Generating table for: Mid Atlantic - Destination\n",
      "Generating table for: Mid Atlantic - International\n",
      "Generating table for: Northeast - Local\n",
      "Generating table for: Northeast - Destination\n",
      "Generating table for: Northeast - International\n",
      "Generating table for: Pacific Southwest - Local\n",
      "Generating table for: Pacific Southwest - Destination\n",
      "Generating table for: Pacific Southwest - International\n",
      "Generating table for: Pacific Northwest - Local\n",
      "Generating table for: Pacific Northwest - Destination\n",
      "Generating table for: Pacific Northwest - International\n"
     ]
    }
   ],
   "source": [
    "regions = [\n",
    "    'Rocky Mountain', 'Midwest', 'Mid Atlantic',\n",
    "    'Northeast', 'Pacific Southwest', 'Pacific Northwest'\n",
    "]\n",
    "\n",
    "vis_geo_types = ['Local', 'Destination', 'International']  # Add None if you want \"total\"\n",
    "\n",
    "reg_vg = {}\n",
    "\n",
    "for region in regions:\n",
    "    for visgeo in vis_geo_types:\n",
    "        label = f\"{region} - {visgeo}\"\n",
    "        print(f\"Generating table for: {label}\")\n",
    "        \n",
    "        try:\n",
    "            table = generate_table(\n",
    "                mkt_df=mkt,\n",
    "                vri_df=vri,\n",
    "                filters={\n",
    "                    'Region': region,\n",
    "                    'Ticket Type': None,  # No filter here\n",
    "                    'VisGeo': visgeo      # This varies\n",
    "                },\n",
    "                group_column='VRI or Peak',\n",
    "                total_label='Total industry visits',\n",
    "                rename_index_map=rename_map\n",
    "            )\n",
    "            reg_vg[label] = table\n",
    "        except Exception as e:\n",
    "            print(f\"⚠️ Failed for {label}: {e}\")\n"
   ]
  },
  {
   "cell_type": "code",
   "execution_count": null,
   "id": "67a9d3b2",
   "metadata": {},
   "outputs": [
    {
     "name": "stdout",
     "output_type": "stream",
     "text": [
      "Season                     2012/13      2013/14      2014/15      2015/16  \\\n",
      "Total industry visits 1,153,341.08 1,057,013.40 1,189,449.56 1,159,547.56   \n",
      "VRI Visits (17MTN)             NaN          NaN          NaN          NaN   \n",
      "VRI Visits (Peak)              NaN          NaN          NaN          NaN   \n",
      "VRI Visits (7S)                NaN          NaN          NaN          NaN   \n",
      "VRI Share (17MTN)              NaN          NaN          NaN          NaN   \n",
      "VRI Share (Peak)               NaN          NaN          NaN          NaN   \n",
      "VRI Share (7S)                 NaN          NaN          NaN          NaN   \n",
      "\n",
      "Season                     2016/17      2017/18    2018/19    2019/20  \\\n",
      "Total industry visits 1,094,893.57 1,083,867.30 896,784.18 768,874.48   \n",
      "VRI Visits (17MTN)             NaN          NaN 332,689.81 274,343.68   \n",
      "VRI Visits (Peak)              NaN          NaN        NaN        NaN   \n",
      "VRI Visits (7S)                NaN          NaN        NaN        NaN   \n",
      "VRI Share (17MTN)              NaN          NaN       0.37       0.36   \n",
      "VRI Share (Peak)               NaN          NaN        NaN        NaN   \n",
      "VRI Share (7S)                 NaN          NaN        NaN        NaN   \n",
      "\n",
      "Season                   2020/21    2021/22    2022/23    2023/24  \n",
      "Total industry visits 373,536.85 588,627.53 698,093.33 760,528.17  \n",
      "VRI Visits (17MTN)    156,788.22 267,552.09 312,345.83 297,526.23  \n",
      "VRI Visits (Peak)            NaN        NaN        NaN        NaN  \n",
      "VRI Visits (7S)              NaN        NaN        NaN        NaN  \n",
      "VRI Share (17MTN)           0.42       0.45       0.45       0.39  \n",
      "VRI Share (Peak)             NaN        NaN        NaN        NaN  \n",
      "VRI Share (7S)               NaN        NaN        NaN        NaN  \n"
     ]
    }
   ],
   "source": [
    "#print(reg_vg['Rocky Mountain - International'])"
   ]
  },
  {
   "cell_type": "markdown",
   "id": "fc8d3ac3",
   "metadata": {},
   "source": [
    "## Ticket Type x VisGeo"
   ]
  },
  {
   "cell_type": "code",
   "execution_count": 187,
   "id": "50feca69",
   "metadata": {},
   "outputs": [
    {
     "name": "stdout",
     "output_type": "stream",
     "text": [
      "Generating table for: Pass - Local\n",
      "Generating table for: Pass - Destination\n",
      "Generating table for: Pass - International\n",
      "Generating table for: Paid - Local\n",
      "Generating table for: Paid - Destination\n",
      "Generating table for: Paid - International\n"
     ]
    }
   ],
   "source": [
    "ticket_types = ['Pass', 'Paid']\n",
    "vis_geo_types = ['Local', 'Destination', 'International']\n",
    "\n",
    "tt_vg = {}\n",
    "\n",
    "for ticket_type in ticket_types:\n",
    "    for visgeo in vis_geo_types:\n",
    "        label = f\"{ticket_type} - {visgeo}\"\n",
    "        print(f\"Generating table for: {label}\")\n",
    "\n",
    "        try:\n",
    "            table = generate_table(\n",
    "                mkt_df=mkt,\n",
    "                vri_df=vri,\n",
    "                filters={\n",
    "                    'Region': None,           # No region filter\n",
    "                    'Ticket Type': ticket_type,\n",
    "                    'VisGeo': visgeo\n",
    "                },\n",
    "                group_column='VRI or Peak',\n",
    "                total_label='Total industry visits',\n",
    "                rename_index_map=rename_map\n",
    "            )\n",
    "            tt_vg[label] = table\n",
    "        except Exception as e:\n",
    "            print(f\"⚠️ Failed for {label}: {e}\")\n"
   ]
  },
  {
   "cell_type": "code",
   "execution_count": null,
   "id": "8f643979",
   "metadata": {},
   "outputs": [
    {
     "name": "stdout",
     "output_type": "stream",
     "text": [
      "Season                   2012/13    2013/14    2014/15    2015/16    2016/17  \\\n",
      "Total industry visits 366,832.95 434,477.97 464,307.27 488,269.70 538,186.75   \n",
      "VRI Visits (17MTN)           NaN        NaN        NaN        NaN        NaN   \n",
      "VRI Visits (Peak)            NaN        NaN        NaN        NaN        NaN   \n",
      "VRI Visits (7S)              NaN        NaN        NaN        NaN        NaN   \n",
      "VRI Share (17MTN)            NaN        NaN        NaN        NaN        NaN   \n",
      "VRI Share (Peak)             NaN        NaN        NaN        NaN        NaN   \n",
      "VRI Share (7S)               NaN        NaN        NaN        NaN        NaN   \n",
      "\n",
      "Season                   2017/18    2018/19    2019/20    2020/21    2021/22  \\\n",
      "Total industry visits 461,811.15 475,633.07 444,534.65 229,285.99 367,164.14   \n",
      "VRI Visits (17MTN)           NaN 223,333.10 207,270.57 102,202.88 203,085.35   \n",
      "VRI Visits (Peak)            NaN        NaN       0.00       0.00       0.00   \n",
      "VRI Visits (7S)              NaN        NaN        NaN        NaN        NaN   \n",
      "VRI Share (17MTN)            NaN       0.47       0.47       0.45       0.55   \n",
      "VRI Share (Peak)             NaN        NaN       0.00       0.00       0.00   \n",
      "VRI Share (7S)               NaN        NaN        NaN        NaN        NaN   \n",
      "\n",
      "Season                   2022/23    2023/24  \n",
      "Total industry visits 517,550.08 584,031.95  \n",
      "VRI Visits (17MTN)    252,959.80 250,070.94  \n",
      "VRI Visits (Peak)           0.00       0.00  \n",
      "VRI Visits (7S)             0.00       0.00  \n",
      "VRI Share (17MTN)           0.49       0.43  \n",
      "VRI Share (Peak)            0.00       0.00  \n",
      "VRI Share (7S)              0.00       0.00  \n"
     ]
    }
   ],
   "source": [
    "#print(tt_vg['Pass - International'])\n"
   ]
  },
  {
   "cell_type": "markdown",
   "id": "f54d6e58",
   "metadata": {},
   "source": [
    "## Region x TicketType x VisGeo"
   ]
  },
  {
   "cell_type": "code",
   "execution_count": 189,
   "id": "b03399ba",
   "metadata": {},
   "outputs": [
    {
     "name": "stdout",
     "output_type": "stream",
     "text": [
      "Generating table for: Rocky Mountain - Pass - Local\n",
      "Generating table for: Rocky Mountain - Pass - Destination\n",
      "Generating table for: Rocky Mountain - Pass - International\n",
      "Generating table for: Rocky Mountain - Paid - Local\n",
      "Generating table for: Rocky Mountain - Paid - Destination\n",
      "Generating table for: Rocky Mountain - Paid - International\n",
      "Generating table for: Midwest - Pass - Local\n",
      "Generating table for: Midwest - Pass - Destination\n",
      "Generating table for: Midwest - Pass - International\n",
      "Generating table for: Midwest - Paid - Local\n",
      "Generating table for: Midwest - Paid - Destination\n",
      "Generating table for: Midwest - Paid - International\n",
      "Generating table for: Mid Atlantic - Pass - Local\n",
      "Generating table for: Mid Atlantic - Pass - Destination\n",
      "Generating table for: Mid Atlantic - Pass - International\n",
      "Generating table for: Mid Atlantic - Paid - Local\n",
      "Generating table for: Mid Atlantic - Paid - Destination\n",
      "Generating table for: Mid Atlantic - Paid - International\n",
      "Generating table for: Northeast - Pass - Local\n",
      "Generating table for: Northeast - Pass - Destination\n",
      "Generating table for: Northeast - Pass - International\n",
      "Generating table for: Northeast - Paid - Local\n",
      "Generating table for: Northeast - Paid - Destination\n",
      "Generating table for: Northeast - Paid - International\n",
      "Generating table for: Pacific Southwest - Pass - Local\n",
      "Generating table for: Pacific Southwest - Pass - Destination\n",
      "Generating table for: Pacific Southwest - Pass - International\n",
      "Generating table for: Pacific Southwest - Paid - Local\n",
      "Generating table for: Pacific Southwest - Paid - Destination\n",
      "Generating table for: Pacific Southwest - Paid - International\n",
      "Generating table for: Pacific Northwest - Pass - Local\n",
      "Generating table for: Pacific Northwest - Pass - Destination\n",
      "Generating table for: Pacific Northwest - Pass - International\n",
      "Generating table for: Pacific Northwest - Paid - Local\n",
      "Generating table for: Pacific Northwest - Paid - Destination\n",
      "Generating table for: Pacific Northwest - Paid - International\n"
     ]
    }
   ],
   "source": [
    "regions = [\n",
    "    'Rocky Mountain', 'Midwest', 'Mid Atlantic',\n",
    "    'Northeast', 'Pacific Southwest', 'Pacific Northwest'\n",
    "]\n",
    "\n",
    "ticket_types = ['Pass', 'Paid']\n",
    "vis_geo_types = ['Local', 'Destination', 'International']\n",
    "\n",
    "reg_tt_vg = {}\n",
    "\n",
    "for region in regions:\n",
    "    for ticket_type in ticket_types:\n",
    "        for visgeo in vis_geo_types:\n",
    "            label = f\"{region} - {ticket_type} - {visgeo}\"\n",
    "            print(f\"Generating table for: {label}\")\n",
    "\n",
    "            try:\n",
    "                table = generate_table(\n",
    "                    mkt_df=mkt,\n",
    "                    vri_df=vri,\n",
    "                    filters={\n",
    "                        'Region': region,\n",
    "                        'Ticket Type': ticket_type,\n",
    "                        'VisGeo': visgeo\n",
    "                    },\n",
    "                    group_column='VRI or Peak',\n",
    "                    total_label='Total industry visits',\n",
    "                    rename_index_map=rename_map\n",
    "                )\n",
    "                reg_tt_vg[label] = table\n",
    "            except Exception as e:\n",
    "                print(f\"⚠️ Failed for {label}: {e}\")\n"
   ]
  },
  {
   "cell_type": "code",
   "execution_count": null,
   "id": "78f469a6",
   "metadata": {},
   "outputs": [
    {
     "name": "stdout",
     "output_type": "stream",
     "text": [
      "Season                     2012/13      2013/14      2014/15      2015/16  \\\n",
      "Total industry visits 1,666,680.15 2,306,745.08 2,277,221.07 2,669,346.76   \n",
      "VRI Visits (17MTN)             NaN          NaN          NaN          NaN   \n",
      "VRI Visits (Peak)              NaN          NaN          NaN          NaN   \n",
      "VRI Visits (7S)                NaN          NaN          NaN          NaN   \n",
      "VRI Share (17MTN)              NaN          NaN          NaN          NaN   \n",
      "VRI Share (Peak)               NaN          NaN          NaN          NaN   \n",
      "VRI Share (7S)                 NaN          NaN          NaN          NaN   \n",
      "\n",
      "Season                     2016/17      2017/18      2018/19      2019/20  \\\n",
      "Total industry visits 3,224,206.33 2,976,194.71 3,729,059.19 3,766,086.05   \n",
      "VRI Visits (17MTN)             NaN          NaN 1,949,539.50 1,928,391.25   \n",
      "VRI Visits (Peak)              NaN          NaN          NaN          NaN   \n",
      "VRI Visits (7S)                NaN          NaN          NaN          NaN   \n",
      "VRI Share (17MTN)              NaN          NaN         0.52         0.51   \n",
      "VRI Share (Peak)               NaN          NaN          NaN          NaN   \n",
      "VRI Share (7S)                 NaN          NaN          NaN          NaN   \n",
      "\n",
      "Season                     2020/21      2021/22      2022/23      2023/24  \n",
      "Total industry visits 5,128,889.41 6,845,223.43 7,728,761.40 8,680,551.66  \n",
      "VRI Visits (17MTN)    2,658,358.97 3,423,811.25 3,440,109.09 3,349,207.93  \n",
      "VRI Visits (Peak)              NaN          NaN          NaN          NaN  \n",
      "VRI Visits (7S)                NaN          NaN          NaN          NaN  \n",
      "VRI Share (17MTN)             0.52         0.50         0.45         0.39  \n",
      "VRI Share (Peak)               NaN          NaN          NaN          NaN  \n",
      "VRI Share (7S)                 NaN          NaN          NaN          NaN  \n"
     ]
    }
   ],
   "source": [
    "#print(reg_tt_vg['Rocky Mountain - Pass - Destination'])"
   ]
  },
  {
   "cell_type": "markdown",
   "id": "53502f76",
   "metadata": {},
   "source": [
    "# Everything below this uses the same block of code, but just adjusts the filters. Use these"
   ]
  },
  {
   "cell_type": "markdown",
   "id": "f4e2c586",
   "metadata": {},
   "source": [
    "## Ticket Type"
   ]
  },
  {
   "cell_type": "code",
   "execution_count": 193,
   "id": "61c2dae5",
   "metadata": {},
   "outputs": [
    {
     "name": "stdout",
     "output_type": "stream",
     "text": [
      "Generating table for: None - Pass - None\n",
      "Generating table for: None - Paid - None\n"
     ]
    }
   ],
   "source": [
    "regions = [\n",
    "    None\n",
    "]\n",
    "\n",
    "ticket_types = ['Pass', 'Paid']\n",
    "vis_geo_types = [None]\n",
    "\n",
    "tt = {}\n",
    "\n",
    "for region in regions:\n",
    "    for ticket_type in ticket_types:\n",
    "        for visgeo in vis_geo_types:\n",
    "            label = f\"{region} - {ticket_type} - {visgeo}\"\n",
    "            print(f\"Generating table for: {label}\")\n",
    "\n",
    "            try:\n",
    "                table = generate_table(\n",
    "                    mkt_df=mkt,\n",
    "                    vri_df=vri,\n",
    "                    filters={\n",
    "                        'Region': region,\n",
    "                        'Ticket Type': ticket_type,\n",
    "                        'VisGeo': visgeo\n",
    "                    },\n",
    "                    group_column='VRI or Peak',\n",
    "                    total_label='Total industry visits',\n",
    "                    rename_index_map=rename_map\n",
    "                )\n",
    "                tt[label] = table\n",
    "            except Exception as e:\n",
    "                print(f\"⚠️ Failed for {label}: {e}\")\n"
   ]
  },
  {
   "cell_type": "markdown",
   "id": "4df821d9",
   "metadata": {},
   "source": [
    "## Region"
   ]
  },
  {
   "cell_type": "code",
   "execution_count": 197,
   "id": "cdcda6f1",
   "metadata": {},
   "outputs": [
    {
     "name": "stdout",
     "output_type": "stream",
     "text": [
      "Generating table for: Rocky Mountain - None - None\n",
      "Generating table for: Midwest - None - None\n",
      "Generating table for: Mid Atlantic - None - None\n",
      "Generating table for: Northeast - None - None\n",
      "Generating table for: Pacific Southwest - None - None\n",
      "Generating table for: Pacific Northwest - None - None\n"
     ]
    }
   ],
   "source": [
    "regions = [\n",
    "    'Rocky Mountain', 'Midwest', 'Mid Atlantic',\n",
    "    'Northeast', 'Pacific Southwest', 'Pacific Northwest'\n",
    "]\n",
    "\n",
    "ticket_types = [None]\n",
    "vis_geo_types = [None]\n",
    "\n",
    "reg = {}\n",
    "\n",
    "for region in regions:\n",
    "    for ticket_type in ticket_types:\n",
    "        for visgeo in vis_geo_types:\n",
    "            label = f\"{region} - {ticket_type} - {visgeo}\"\n",
    "            print(f\"Generating table for: {label}\")\n",
    "\n",
    "            try:\n",
    "                table = generate_table(\n",
    "                    mkt_df=mkt,\n",
    "                    vri_df=vri,\n",
    "                    filters={\n",
    "                        'Region': region,\n",
    "                        'Ticket Type': ticket_type,\n",
    "                        'VisGeo': visgeo\n",
    "                    },\n",
    "                    group_column='VRI or Peak',\n",
    "                    total_label='Total industry visits',\n",
    "                    rename_index_map=rename_map\n",
    "                )\n",
    "                reg[label] = table\n",
    "            except Exception as e:\n",
    "                print(f\"⚠️ Failed for {label}: {e}\")\n"
   ]
  },
  {
   "cell_type": "markdown",
   "id": "b0e4f851",
   "metadata": {},
   "source": [
    "## VisGeo"
   ]
  },
  {
   "cell_type": "code",
   "execution_count": 200,
   "id": "da032078",
   "metadata": {},
   "outputs": [
    {
     "name": "stdout",
     "output_type": "stream",
     "text": [
      "Generating table for: None - None - Local\n",
      "Generating table for: None - None - Destination\n",
      "Generating table for: None - None - International\n"
     ]
    }
   ],
   "source": [
    "regions = [\n",
    "    None\n",
    "]\n",
    "\n",
    "ticket_types = [None]\n",
    "vis_geo_types = ['Local', 'Destination', 'International']\n",
    "\n",
    "vg = {}\n",
    "\n",
    "for region in regions:\n",
    "    for ticket_type in ticket_types:\n",
    "        for visgeo in vis_geo_types:\n",
    "            label = f\"{region} - {ticket_type} - {visgeo}\"\n",
    "            print(f\"Generating table for: {label}\")\n",
    "\n",
    "            try:\n",
    "                table = generate_table(\n",
    "                    mkt_df=mkt,\n",
    "                    vri_df=vri,\n",
    "                    filters={\n",
    "                        'Region': region,\n",
    "                        'Ticket Type': ticket_type,\n",
    "                        'VisGeo': visgeo\n",
    "                    },\n",
    "                    group_column='VRI or Peak',\n",
    "                    total_label='Total industry visits',\n",
    "                    rename_index_map=rename_map\n",
    "                )\n",
    "                vg[label] = table\n",
    "            except Exception as e:\n",
    "                print(f\"⚠️ Failed for {label}: {e}\")\n"
   ]
  },
  {
   "cell_type": "markdown",
   "id": "728487a1",
   "metadata": {},
   "source": [
    "## Region x Ticket Type"
   ]
  },
  {
   "cell_type": "code",
   "execution_count": 202,
   "id": "3990ade0",
   "metadata": {},
   "outputs": [
    {
     "name": "stdout",
     "output_type": "stream",
     "text": [
      "Generating table for: Rocky Mountain - Pass - None\n",
      "Generating table for: Rocky Mountain - Paid - None\n",
      "Generating table for: Midwest - Pass - None\n",
      "Generating table for: Midwest - Paid - None\n",
      "Generating table for: Mid Atlantic - Pass - None\n",
      "Generating table for: Mid Atlantic - Paid - None\n",
      "Generating table for: Northeast - Pass - None\n",
      "Generating table for: Northeast - Paid - None\n",
      "Generating table for: Pacific Southwest - Pass - None\n",
      "Generating table for: Pacific Southwest - Paid - None\n",
      "Generating table for: Pacific Northwest - Pass - None\n",
      "Generating table for: Pacific Northwest - Paid - None\n"
     ]
    }
   ],
   "source": [
    "regions = [\n",
    "    'Rocky Mountain', 'Midwest', 'Mid Atlantic',\n",
    "    'Northeast', 'Pacific Southwest', 'Pacific Northwest'\n",
    "]\n",
    "\n",
    "ticket_types = ['Pass', 'Paid']\n",
    "vis_geo_types = [None]\n",
    "\n",
    "reg_tt = {}\n",
    "\n",
    "for region in regions:\n",
    "    for ticket_type in ticket_types:\n",
    "        for visgeo in vis_geo_types:\n",
    "            label = f\"{region} - {ticket_type} - {visgeo}\"\n",
    "            print(f\"Generating table for: {label}\")\n",
    "\n",
    "            try:\n",
    "                table = generate_table(\n",
    "                    mkt_df=mkt,\n",
    "                    vri_df=vri,\n",
    "                    filters={\n",
    "                        'Region': region,\n",
    "                        'Ticket Type': ticket_type,\n",
    "                        'VisGeo': visgeo\n",
    "                    },\n",
    "                    group_column='VRI or Peak',\n",
    "                    total_label='Total industry visits',\n",
    "                    rename_index_map=rename_map\n",
    "                )\n",
    "                reg_tt[label] = table\n",
    "            except Exception as e:\n",
    "                print(f\"⚠️ Failed for {label}: {e}\")\n"
   ]
  },
  {
   "cell_type": "markdown",
   "id": "efc62b04",
   "metadata": {},
   "source": [
    "## Region x VisGeo"
   ]
  },
  {
   "cell_type": "code",
   "execution_count": 205,
   "id": "0df0d5d6",
   "metadata": {},
   "outputs": [
    {
     "name": "stdout",
     "output_type": "stream",
     "text": [
      "Generating table for: Rocky Mountain - None - Local\n",
      "Generating table for: Rocky Mountain - None - Destination\n",
      "Generating table for: Rocky Mountain - None - International\n",
      "Generating table for: Midwest - None - Local\n",
      "Generating table for: Midwest - None - Destination\n",
      "Generating table for: Midwest - None - International\n",
      "Generating table for: Mid Atlantic - None - Local\n",
      "Generating table for: Mid Atlantic - None - Destination\n",
      "Generating table for: Mid Atlantic - None - International\n",
      "Generating table for: Northeast - None - Local\n",
      "Generating table for: Northeast - None - Destination\n",
      "Generating table for: Northeast - None - International\n",
      "Generating table for: Pacific Southwest - None - Local\n",
      "Generating table for: Pacific Southwest - None - Destination\n",
      "Generating table for: Pacific Southwest - None - International\n",
      "Generating table for: Pacific Northwest - None - Local\n",
      "Generating table for: Pacific Northwest - None - Destination\n",
      "Generating table for: Pacific Northwest - None - International\n"
     ]
    }
   ],
   "source": [
    "regions = [\n",
    "    'Rocky Mountain', 'Midwest', 'Mid Atlantic',\n",
    "    'Northeast', 'Pacific Southwest', 'Pacific Northwest'\n",
    "]\n",
    "\n",
    "ticket_types = [None]\n",
    "vis_geo_types = ['Local', 'Destination', 'International']\n",
    "\n",
    "reg_vg = {}\n",
    "\n",
    "for region in regions:\n",
    "    for ticket_type in ticket_types:\n",
    "        for visgeo in vis_geo_types:\n",
    "            label = f\"{region} - {ticket_type} - {visgeo}\"\n",
    "            print(f\"Generating table for: {label}\")\n",
    "\n",
    "            try:\n",
    "                table = generate_table(\n",
    "                    mkt_df=mkt,\n",
    "                    vri_df=vri,\n",
    "                    filters={\n",
    "                        'Region': region,\n",
    "                        'Ticket Type': ticket_type,\n",
    "                        'VisGeo': visgeo\n",
    "                    },\n",
    "                    group_column='VRI or Peak',\n",
    "                    total_label='Total industry visits',\n",
    "                    rename_index_map=rename_map\n",
    "                )\n",
    "                reg_vg[label] = table\n",
    "            except Exception as e:\n",
    "                print(f\"⚠️ Failed for {label}: {e}\")\n"
   ]
  },
  {
   "cell_type": "markdown",
   "id": "e8c481f4",
   "metadata": {},
   "source": [
    "## Ticket Type x VisGeo"
   ]
  },
  {
   "cell_type": "code",
   "execution_count": 207,
   "id": "3a5c3a7f",
   "metadata": {},
   "outputs": [
    {
     "name": "stdout",
     "output_type": "stream",
     "text": [
      "Generating table for: None - Pass - Local\n",
      "Generating table for: None - Pass - Destination\n",
      "Generating table for: None - Pass - International\n",
      "Generating table for: None - Paid - Local\n",
      "Generating table for: None - Paid - Destination\n",
      "Generating table for: None - Paid - International\n"
     ]
    }
   ],
   "source": [
    "regions = [\n",
    "    None\n",
    "]\n",
    "\n",
    "ticket_types = ['Pass', 'Paid']\n",
    "vis_geo_types = ['Local', 'Destination', 'International']\n",
    "\n",
    "tt_vg = {}\n",
    "\n",
    "for region in regions:\n",
    "    for ticket_type in ticket_types:\n",
    "        for visgeo in vis_geo_types:\n",
    "            label = f\"{region} - {ticket_type} - {visgeo}\"\n",
    "            print(f\"Generating table for: {label}\")\n",
    "\n",
    "            try:\n",
    "                table = generate_table(\n",
    "                    mkt_df=mkt,\n",
    "                    vri_df=vri,\n",
    "                    filters={\n",
    "                        'Region': region,\n",
    "                        'Ticket Type': ticket_type,\n",
    "                        'VisGeo': visgeo\n",
    "                    },\n",
    "                    group_column='VRI or Peak',\n",
    "                    total_label='Total industry visits',\n",
    "                    rename_index_map=rename_map\n",
    "                )\n",
    "                tt_vg[label] = table\n",
    "            except Exception as e:\n",
    "                print(f\"⚠️ Failed for {label}: {e}\")\n"
   ]
  },
  {
   "cell_type": "markdown",
   "id": "1ead3693",
   "metadata": {},
   "source": [
    "## Region x Ticket Type x VisGeo"
   ]
  },
  {
   "cell_type": "code",
   "execution_count": 209,
   "id": "5f551bb5",
   "metadata": {},
   "outputs": [
    {
     "name": "stdout",
     "output_type": "stream",
     "text": [
      "Generating table for: Rocky Mountain - Pass - Local\n",
      "Generating table for: Rocky Mountain - Pass - Destination\n",
      "Generating table for: Rocky Mountain - Pass - International\n",
      "Generating table for: Rocky Mountain - Paid - Local\n",
      "Generating table for: Rocky Mountain - Paid - Destination\n",
      "Generating table for: Rocky Mountain - Paid - International\n",
      "Generating table for: Midwest - Pass - Local\n",
      "Generating table for: Midwest - Pass - Destination\n",
      "Generating table for: Midwest - Pass - International\n",
      "Generating table for: Midwest - Paid - Local\n",
      "Generating table for: Midwest - Paid - Destination\n",
      "Generating table for: Midwest - Paid - International\n",
      "Generating table for: Mid Atlantic - Pass - Local\n",
      "Generating table for: Mid Atlantic - Pass - Destination\n",
      "Generating table for: Mid Atlantic - Pass - International\n",
      "Generating table for: Mid Atlantic - Paid - Local\n",
      "Generating table for: Mid Atlantic - Paid - Destination\n",
      "Generating table for: Mid Atlantic - Paid - International\n",
      "Generating table for: Northeast - Pass - Local\n",
      "Generating table for: Northeast - Pass - Destination\n",
      "Generating table for: Northeast - Pass - International\n",
      "Generating table for: Northeast - Paid - Local\n",
      "Generating table for: Northeast - Paid - Destination\n",
      "Generating table for: Northeast - Paid - International\n",
      "Generating table for: Pacific Southwest - Pass - Local\n",
      "Generating table for: Pacific Southwest - Pass - Destination\n",
      "Generating table for: Pacific Southwest - Pass - International\n",
      "Generating table for: Pacific Southwest - Paid - Local\n",
      "Generating table for: Pacific Southwest - Paid - Destination\n",
      "Generating table for: Pacific Southwest - Paid - International\n",
      "Generating table for: Pacific Northwest - Pass - Local\n",
      "Generating table for: Pacific Northwest - Pass - Destination\n",
      "Generating table for: Pacific Northwest - Pass - International\n",
      "Generating table for: Pacific Northwest - Paid - Local\n",
      "Generating table for: Pacific Northwest - Paid - Destination\n",
      "Generating table for: Pacific Northwest - Paid - International\n"
     ]
    }
   ],
   "source": [
    "regions = [\n",
    "    'Rocky Mountain', 'Midwest', 'Mid Atlantic',\n",
    "    'Northeast', 'Pacific Southwest', 'Pacific Northwest'\n",
    "]\n",
    "\n",
    "ticket_types = ['Pass', 'Paid']\n",
    "vis_geo_types = ['Local', 'Destination', 'International']\n",
    "\n",
    "reg_tt_vg = {}\n",
    "\n",
    "for region in regions:\n",
    "    for ticket_type in ticket_types:\n",
    "        for visgeo in vis_geo_types:\n",
    "            label = f\"{region} - {ticket_type} - {visgeo}\"\n",
    "            print(f\"Generating table for: {label}\")\n",
    "\n",
    "            try:\n",
    "                table = generate_table(\n",
    "                    mkt_df=mkt,\n",
    "                    vri_df=vri,\n",
    "                    filters={\n",
    "                        'Region': region,\n",
    "                        'Ticket Type': ticket_type,\n",
    "                        'VisGeo': visgeo\n",
    "                    },\n",
    "                    group_column='VRI or Peak',\n",
    "                    total_label='Total industry visits',\n",
    "                    rename_index_map=rename_map\n",
    "                )\n",
    "                reg_tt_vg[label] = table\n",
    "            except Exception as e:\n",
    "                print(f\"⚠️ Failed for {label}: {e}\")\n"
   ]
  },
  {
   "cell_type": "code",
   "execution_count": null,
   "id": "b3c22968",
   "metadata": {},
   "outputs": [],
   "source": []
  }
 ],
 "metadata": {
  "kernelspec": {
   "display_name": "Python 3",
   "language": "python",
   "name": "python3"
  },
  "language_info": {
   "codemirror_mode": {
    "name": "ipython",
    "version": 3
   },
   "file_extension": ".py",
   "mimetype": "text/x-python",
   "name": "python",
   "nbconvert_exporter": "python",
   "pygments_lexer": "ipython3",
   "version": "3.13.2"
  }
 },
 "nbformat": 4,
 "nbformat_minor": 5
}
